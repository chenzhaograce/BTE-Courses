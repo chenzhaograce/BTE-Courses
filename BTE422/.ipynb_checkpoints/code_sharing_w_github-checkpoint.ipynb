{
 "cells": [
  {
   "cell_type": "markdown",
   "metadata": {},
   "source": [
    "# Code sharing with GitHub"
   ]
  },
  {
   "cell_type": "markdown",
   "metadata": {},
   "source": [
    "## Introduction\n",
    "\n",
    "When big companies wnat to create new tools to either use for themselves or commercialize, they create groups of employees that include domain experts, software engineers, and others. These experts usually come with diverse academic backgrounds and experience. They might also come with different levels of programming expertise (from none to senior software designers). Therefore each team member has their own \"way\" of writing code. \n",
    "\n",
    "Coordinating all team members for working on a certain project can become quite challenging then, since it is highly likely to lead to many errors, especially when different team members try to access the same code and provide changes (modifications, add/delete lines of code, etc.) \n",
    "\n",
    "For these and other reasons, tools that allow every member of the team to make updates and contribute to the project are necessary. **GitHub** is such a tool.\n",
    "\n",
    "GitHub is a code hosting platform for version control and collaboration. It lets you and others work together on projects from anywhere, without worrying about irreversable errors.\n",
    "\n",
    "In this class, we will learn about GitHub basics, such as repositories, branches, commits, and Pull Requests (PR).  You will see how to create your own repository and learn GitHub’s Pull Request workflow, a popular way to create and review code."
   ]
  },
  {
   "cell_type": "markdown",
   "metadata": {},
   "source": [
    "### Tip: No coding necessary\n",
    "\n",
    "You do not need any coding experience to create and manipulate your GitHub repositories. All commands are given through the Command Line (Windows) or Terminal window (Linux, macOS). There is also a desktop version called *Git*, which you can use alternatively. \n",
    "\n",
    "Before we begin, you need to setup a free account on the [GitHub webpage](https://github.com/). Then, you will be able to upload your projects in dedicated spaces called **repositories**, or *repos* as the GitHub jargon has it."
   ]
  },
  {
   "cell_type": "markdown",
   "metadata": {},
   "source": [
    "## Creating a repo\n",
    "\n",
    "The best approach is to have one repo to organize each of your own projects. For example, for the project deliverables of this class, the designated team leader will create a repo that all other members of the team will be able to clone to their own computers, work on them, and upload changes/modifications/new material. Repositories usually contain folders and files, images, videos, spreadsheets, and data sets, so pretty much anything a project needs. \n",
    "\n",
    "#### Helpful: README\n",
    "\n",
    "It is highly recommended that your repo should also have a *README.md* file detailing useful information about the project. You can either initialize a repo with a README file, or you can manually create one and upload it.\n",
    "\n",
    "Let's see now how you will create your repos. Although in the end you will use your respective team leader's repo to work on, it is highly recommended that all of you learn how to create your repository.\n",
    "\n",
    "When you create your GitHub account, the `home` directory will look like this (not including already existing repos of course):\n",
    "<img src=\"images/git-init-page.png\">\n",
    "\n",
    "In the upper right corner, next to your avatar, click + and then select **New repository**, and choose a name for your repository. If you want, write a short description to help you and your team members distinguish the repo among others. Then, select **Initialize** this repository with a README file.\n",
    "<img src=\"images/git-create-new-repo.png\" />\n",
    "When done, click `Create repository`. \n",
    "\n",
    "That's it! You have just created your first (or not) repo."
   ]
  },
  {
   "cell_type": "markdown",
   "metadata": {},
   "source": [
    "## Creating branches\n",
    "\n",
    "Here is when things get interesting! \n",
    "\n",
    "All repos on GitHub are initialized under a default branch called `main`, which represents one branch only (see red rectangle in the image below).\n",
    "<img src=\"images/git-main-branch.png\" />\n",
    "\n",
    "Remember, we use code sharing tools like GitHub so that all team members can contribute to the project. Most of the time, that means that one of the team members wants to add a certain part (e.g. a Python snippet for scraping times series data from a set of stocks), while the current code version reads data from a stored datafile (e.g. a csv file).\n",
    "\n",
    "The idea behind branching is that, instead of everyone working on the project's `main` branch, you will create a separate branch that is a direct copy, or snapshot, of `main` as it was at that specific time. If changes occur to the `main` branch while you were working on your branch, you can pull in those updates as well. You will be able to safely perform all your changes in your own branch, without worrying about `main`. Later we will see how to incorporate these changes in the main branch, assuming that it is safe to do so. \n",
    "\n",
    "**In other words, we ALWAYS use branching to experiment and make edits before committing them to `main`.**\n",
    "\n",
    "<img src=\"images/git-branching-example.png\" width=600/>\n",
    "\n",
    "What you see in branching is similar to when you have an original file and its updated versions as:\n",
    "\n",
    " - `file_init.txt`\n",
    " - `file_update_1.txt`\n",
    " - `file_updated_update_2.txt`\n",
    " - ...\n",
    "\n",
    "The best course of action you need to take is: \n",
    " 1. Create repo and upload initial work on `main`.\n",
    " 2. Develop branches for fixing bugs and do feature work.\n",
    " 3. Merge changes on the `main` when ready and safe to do so.\n",
    "\n",
    "The process to create a new branch goes as:\n",
    " 1. Go to your new repository (let's say its name is `BTE422-project`).\n",
    " 2. Click on the drop-down menu in `main` (see red rectangle above). \n",
    " <img style=\"float: center;\" src=\"images/git-branching-step1.png\" width=300/>\n",
    " 3. Type a name for the new branch, e.g. `new-branch-Bob`.\n",
    " <img style=\"float: center;\" src=\"images/git-branching-step2.png\" width=300/>\n",
    " 4. Select **Create branch:new-branch-Bob from 'main'**.\n",
    " 5. There are now two branches in the repo, namely `main` and `new-branch-Bob`.\n",
    "\n",
    "Both branches look exactly the same (as expected). However you're now on the `new-branch-Bob` branch, and after all the changes you will do, `main` and `new-branch-Bob` will be two separate entities within the repo.\n",
    "\n"
   ]
  },
  {
   "cell_type": "markdown",
   "metadata": {},
   "source": [
    "## Commit changes\n",
    "\n",
    "Currently, youre in the `new-branch-Bob` branch. You can now proceed to any changes/edits you want to do.\n",
    "\n",
    "In git jargon, a change is called a *commit*. Each commit is associated with a specific message which describes in a few words the nature of this particular commit (e.g. \"fixed typo\"). These messages capture the history of the changes you make and it helps others to realize what was changed and why.\n",
    "\n",
    "Note that, so far, the only file in the repo is the README. Therefore, to see how committing changes work, let's open it, write something, and then commit the change(s):\n",
    "\n",
    " 1. Click on the README file.\n",
    " <img style=\"float: center;\" src=\"images/git-commit-step1.png\" width=800/>\n",
    " 2. Click on the pencil icon in the upper right corner.\n",
    " <img style=\"float: center;\" src=\"images/git-commit-step2.png\" width=800/>\n",
    " 3. In the open editor, write whatever you want that represents a change/update.\n",
    " <img style=\"float: center;\" src=\"images/git-commit-step3.png\" width=800/>\n",
    " 4. Add a comment with a brief description of what the change was about and press `Commit changes`.\n",
    " <img style=\"float: center;\" src=\"images/git-commit-step4.png\" width=800/>\n",
    " \n",
    " After committing the changes, the `new-branch-Bob` branch is now different than `main`."
   ]
  },
  {
   "cell_type": "markdown",
   "metadata": {},
   "source": [
    "## Open Pull Request\n",
    "\n",
    "Now that you made the changes you wanted, it is time to ask permission to merge these changes to the `main` branch. This permission is called a *Pull Request (PR)*. \n",
    "\n",
    "PRs represent what an actual collaboration and code sharing process essentially are. With a PR, you’re proposing your changes, while requesting that someone else from the team review and pull in your contribution and merge them into their branch. That's right! You can either merge on `main`, or other active branches as well (essentially `main` is just a branch, don't forget that).\n",
    "\n",
    "PRs also show *diffs* (differences) between content from both branches. The changes, additions, and subtractions are shown in green and red.\n",
    "\n",
    "After you make a commit, open a pull request and start a discussion. You can do that even before the code is finished!\n",
    "\n",
    "If you want someone specifically to review your changes, then you can use the \"@\" symbol.\n",
    "\n",
    "The steps for opening a PR are:\n",
    " 1. Click the tab 'Pull Request' and press the green 'New pull request'.\n",
    " <img style=\"float: center;\" src=\"images/git-open-pull-request-step1.png\" width=800/>\n",
    " <img style=\"float: center;\" src=\"images/git-open-pull-request-step1-1.png\" width=800/>\n",
    " 2. Choose the branch you want to compare the current branch, e.g., compare `new-branch-Bob` with `main` (ignore the different branch name `new-branch` in the picture, my mistake).\n",
    " <img style=\"float: center;\" src=\"images/git-open-pull-request-step2.png\" width=800/>\n",
    " 3. Check all the changes you made and make sure they are correct.\n",
    " <img style=\"float: center;\" src=\"images/git-open-pull-request-step3.png\" width=800/>\n",
    " 4. If you are satisfied with the changes you made, click on 'Create pull request' green button.\n",
    " <img style=\"float: center;\" src=\"images/git-open-pull-request-step4.png\" width=400/>\n",
    " 5. Give a title to your PR to distinguish from others, include a brief description, and click on 'Create pull request'.\n",
    " <img style=\"float: center;\" src=\"images/git-open-pull-request-step5.png\" width=800/>"
   ]
  },
  {
   "cell_type": "markdown",
   "metadata": {},
   "source": [
    "## Merge PRs\n",
    "\n",
    "The last step after creating PRs, comparing changes, exchanging comments and ideas for further edits (if necessary), is to finally merge your PR to the branch you requested (say, the `main` branch):\n",
    " 1. Click on **'Merge pull request'**.\n",
    " <img style=\"float: center;\" src=\"images/git-merge-pull-request-step1.png\" width=800/>\n",
    " 2. Click on **'Confirm merge'**.\n",
    " <img style=\"float: center;\" src=\"images/git-merge-pull-request-step2.png\" width=800/>\n",
    " 3. You can now safely delete `new-branch-Bob` branch, all changes are incorporated in the `main` branch.\n",
    " <img style=\"float: center;\" src=\"images/git-merge-pull-request-step3.png\" width=800/>"
   ]
  },
  {
   "cell_type": "markdown",
   "metadata": {},
   "source": [
    "## Conclusion\n",
    "\n",
    "That's it! You can now create GitHub repos, create and upload new files, and create new branches and compare them.\n",
    "\n",
    "However, this is the tip of the iceberg. There are many more git commands that you will probably come across in your professional life that cannot be covered in a couple classes. Nevertheless, you have now a first-hand experience of the GitHub basics and rest assured that 90% of everything regarding code sharing on GitHub is covered by these basic commands.\n",
    "\n",
    "Congratulations for surviving this tutorial, we are now ready to proceed on learning what you need to know to create the actual material you will upload in your repos!\n",
    "\n",
    "Don't forget! If you have any questions, I am always happy to assist you, but also remember: Google is your friend! 😁\n",
    "\n",
    "\n",
    "Thank you!"
   ]
  },
  {
   "cell_type": "code",
   "execution_count": null,
   "metadata": {},
   "outputs": [],
   "source": []
  }
 ],
 "metadata": {
  "kernelspec": {
   "display_name": "Python 3",
   "language": "python",
   "name": "python3"
  },
  "language_info": {
   "codemirror_mode": {
    "name": "ipython",
    "version": 3
   },
   "file_extension": ".py",
   "mimetype": "text/x-python",
   "name": "python",
   "nbconvert_exporter": "python",
   "pygments_lexer": "ipython3",
   "version": "3.7.6"
  }
 },
 "nbformat": 4,
 "nbformat_minor": 4
}

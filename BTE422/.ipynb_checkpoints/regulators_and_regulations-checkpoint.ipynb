{
 "cells": [
  {
   "cell_type": "markdown",
   "metadata": {},
   "source": [
    "# Privacy and technology regulations"
   ]
  },
  {
   "cell_type": "markdown",
   "metadata": {},
   "source": [
    " - The regulatory landscape for fintechs operating in the US is extremely complex. \n",
    " - There is no ‘fintech-specific’ regulatory framework in operation.\n",
    " - Fintech activities will almost certainly come within the purview of several regulatory bodies.\n",
    " - Requires the firms to register and comply with the obligations set out by one or (more likely) several regulatory bodies.\n",
    "\n",
    "In this class we will go over a list of regulators and regulations that govern fintech industry in the US. However, it is by no means exhaustive."
   ]
  },
  {
   "cell_type": "markdown",
   "metadata": {},
   "source": [
    "## Fintech regulators\n",
    "\n",
    "There is a wide range of fintech regulators in the US with some having extremely broad jurisdictions, while others focus on specific activities. Every fintech must register and comply with them.\n",
    "\n",
    "Since there is a huge list of federal and state regulators, we will present the most prominent ones."
   ]
  },
  {
   "cell_type": "markdown",
   "metadata": {},
   "source": [
    "### Federal Trade Commision (FTC)\n",
    "\n",
    "<img src=\"images/ftc.png\" width=400>\n",
    "\n",
    "The FTC protects consumers from “anticompetitive, unfair, or deceptive” practices amongst businesses that offer services, including fintech applications. \n",
    "\n",
    "It has developed a significant corpus of regulatory requirements for businesses operating in the US, including obligations regarding privacy and data protection.\n",
    "\n",
    "You can find more information in the [FTC website](https://www.ftc.gov/news-events/media-resources/consumer-finance/financial-technology)"
   ]
  },
  {
   "cell_type": "markdown",
   "metadata": {},
   "source": [
    "### Consumer Financial Protection Bureau (CFPB)\n",
    "\n",
    "<img src=\"images/cfpb.png\" width=500>\n",
    "\n",
    "The Consumer Financial Protection Bureau (CFPB) helps consumer finance markets work by:\n",
    " - making rules more effective, \n",
    " - consistently and fairly enforcing those rules, \n",
    " - empowering consumers to take more control over their economic lives.\n",
    "\n"
   ]
  },
  {
   "cell_type": "markdown",
   "metadata": {},
   "source": [
    "### Federal Deposit Insurance Corporation (FDIC)\n",
    "\n",
    "<img src=\"images/fdic.png\" width=500>\n",
    "\n",
    "The mission of the FDIC is to maintain stability and public confidence in the nation's financial system."
   ]
  },
  {
   "cell_type": "markdown",
   "metadata": {},
   "source": [
    "### Securities and Exchange Commission (SEC)\n",
    "\n",
    "<img src=\"images/sec.png\" width=500>\n",
    "\n",
    "The SEC has a three-part mission:\n",
    " - Protect investors\n",
    " - Maintain fair, orderly, and efficient markets\n",
    " - Facilitate capital formation"
   ]
  },
  {
   "cell_type": "markdown",
   "metadata": {},
   "source": [
    "### Commodity Futures Trading Commission (CFTC)\n",
    "\n",
    "<img src=\"images/cftc.png\" width=500>\n",
    "\n",
    "The CFTC mainly focuses on:\n",
    " - Protecting market users and the public from fraud, manipulation, and abusive practices related to the sale of commodity futures and options. \n",
    " - Fostering open, competitive, and financially sound commodity futures and option markets."
   ]
  },
  {
   "cell_type": "markdown",
   "metadata": {},
   "source": [
    "### Office of the Comptroller of the Currency (OCC)\n",
    "\n",
    "\n",
    "\n",
    "The OCC ensures that:\n",
    " - National banks and federal savings associations operate in a safe and sound manner, \n",
    " - Provide fair access to financial services, \n",
    " - Treat customers fairly, \n",
    " - Comply with applicable laws and regulations.\n",
    "\n",
    "In 2018 OCC announced that it would also begin accepting applications for special purpose charters from fintechs. The charter is restricted to fintechs that accept deposits, pay cheques, or carry out lending activities. Fintechs that receive the charter are required to comply with the same requirements imposed on national banks."
   ]
  },
  {
   "cell_type": "markdown",
   "metadata": {},
   "source": [
    "### Financial Crimes Enforcement Network (FinCEN)\n",
    "\n",
    "<img src=\"images/fincen.png\" width=500>\n",
    "\n",
    "Responsibilities of FinCEN include:\n",
    " - Safeguarding the financial system from illicit use, \n",
    " - Combat money laundering and its related crimes including terrorism, \n",
    " - Promote national security through the strategic use of financial authorities and the collection, analysis, and dissemination of financial intelligence."
   ]
  },
  {
   "cell_type": "markdown",
   "metadata": {},
   "source": [
    "### Financial Industry Regulatory Authority (FINRA)\n",
    "\n",
    "<img src=\"images/finra.png\" width=500>\n",
    "\n",
    "FINRA is authorized by Congress to protect America’s investors by making sure the broker-dealer industry operates fairly and honestly."
   ]
  },
  {
   "cell_type": "markdown",
   "metadata": {},
   "source": [
    "### State governments\n",
    "\n",
    "Fintech companies operating in the US are regulated not only by federal bodies but also at a state level. \n",
    "\n",
    "Laws can vary significantly between states and the compliance landscape is complex - but some measures are being taken to simplify and rationalise the state-level regulatory frameworks."
   ]
  },
  {
   "cell_type": "markdown",
   "metadata": {},
   "source": [
    "## Fintech regulations\n",
    "\n",
    "As expected, there is no one-size-fits-all fintech regulation in the US. Specific regulations with which fintechs must comply will depend on their activities. \n",
    "\n",
    "However, there are some particularly common regulations that every fintech operating in the US should consider. "
   ]
  },
  {
   "cell_type": "markdown",
   "metadata": {},
   "source": [
    "### Gramm-Leach Bliley Act (GLBA)\n",
    "\n",
    "The Gramm-Leach-Bliley Act requires financial institutions, such as companies that offer consumers financial products or services like loans, financial or investment advice, or insurance, to explain their information-sharing practices to their customers and to safeguard sensitive data.\n",
    "\n",
    "It is a federal law that includes rules that protect the privacy and security of personally identifiable financial information relating to said customers. "
   ]
  },
  {
   "cell_type": "markdown",
   "metadata": {},
   "source": [
    "### Fair Credit Reporting Act (FCRA)\n",
    "\n",
    "The FCRA protects information collected by consumer reporting agencies such as credit bureaus, medical information companies and tenant screening services. Information in a consumer report cannot be provided to anyone who does not have a purpose specified in the Act.\n",
    "\n",
    "It is the primary federal law that governs the collection and reporting of credit information about consumers. Its rules cover how a consumer's credit information is obtained, how long it is kept, and how it is shared with others—including consumers themselves."
   ]
  },
  {
   "cell_type": "markdown",
   "metadata": {},
   "source": [
    "### Anti-Money Laundering (AML)\n",
    "\n",
    "There are two main AML regulations in the US:\n",
    "\n",
    "<ins>**The Bank Secrecy Act**</ins>: The most important anti-money laundering law. Intends to combat money laundering and ensure that banks and financial institutions do not facilitate or become complicit in it. The BSA imposes a range of compliance obligations on firms operating within US jurisdiction, including a requirement to implement a risk-based AML program with appropriate customer due diligence (CDD) and screening measures and to perform a range of reporting and record-keeping tasks when dealing with suspicious transactions and customers. \n",
    "\n",
    "<ins>**USA Patriot Act**</ins>: This legislation targets financial crimes associated with terrorism and expands the scope of the BSA by giving law enforcement agencies additional surveillance and investigatory powers, introducing new screening and customer due diligence measures and imposing increased penalties on firms or individuals found to be involved in terrorism financing. The USA Patriot Act includes specific provisions and controls for cross-border transactions in order to combat international terrorism and financial crime."
   ]
  },
  {
   "cell_type": "markdown",
   "metadata": {},
   "source": [
    "### JOBS Act\n",
    "\n",
    "Provisions of JOBS Act:\n",
    " - Lowers reporting and disclosure requirements for companies with less than one billion dollars in revenue,\n",
    " - Allows advertising of securities offerings,\n",
    " - Allows greater access to crowd-funding, \n",
    " - Greatly expands the number of companies that can offer stock without going through SEC registration."
   ]
  },
  {
   "cell_type": "markdown",
   "metadata": {},
   "source": [
    "### Fund Transfer Act and CFPB Regulation E\n",
    "\n",
    "The Electronic Fund Transfer Act (EFTA) and CFPB Regulation E are federal laws that:\n",
    " - protect consumers when they transfer funds electronically, including:\n",
    "     * use of debit cards, \n",
    "     * automated teller machines (ATMs), \n",
    "     * automatic withdrawals from a bank account. \n",
    " - provide guidelines for consumers and banks or other financial institutions in the context of electronic funds transfers."
   ]
  },
  {
   "cell_type": "markdown",
   "metadata": {},
   "source": [
    "### Securities and Exchange Act (SEA)\n",
    "\n",
    "The SEA was created to govern securities transactions on the secondary market, after issue, ensuring greater financial transparency and accuracy and less fraud or manipulation.\n",
    "\n",
    "The purpose of the requirements of this act is to ensure an environment of fairness and investor confidence."
   ]
  },
  {
   "cell_type": "markdown",
   "metadata": {},
   "source": [
    "### CAN-SPAM Axt\n",
    "\n",
    "The CAN-SPAM Act requires the FTC to issue regulations “defining the relevant criteria to facilitate the determination of the primary purpose of an electronic mail message.” The CAN-SPAM Act applies almost exclusively to “commercial electronic mail messages”."
   ]
  },
  {
   "cell_type": "markdown",
   "metadata": {},
   "source": [
    "### The future for fintech regulation in the US\n",
    "\n",
    " - It is not surprising that US regulators have been slow to adapt to the meteoric rise of fintech companies.\n",
    "\n",
    " - There remains a knowledge gap between regulators and the businesses they are attempting to regulate.\n",
    "\n",
    "*However, the regulatory landscape is changing*\n",
    "\n",
    "Lawmakers are coming to understand the specific nature of the fintech sector, and there have been attempts to simplify the byzantine legal framework in order to encourage growth.\n",
    "\n",
    "#### Better state cooperation\n",
    "\n",
    "Several states have begun cooperating in an attempt to reduce complexity around state-by-state regulatory requirements. \n",
    "\n",
    "#### Regulatory sandboxes\n",
    "\n",
    " - Used to test environments in which fintech companies can carry out experiments under regulatory supervision.\n",
    " - In some countries (e.g. UK), fintechs are allowed to conduct those experiments with real customers.\n",
    "\n",
    "**No such framework currently exists at the federal level in the US** \n",
    "\n",
    "There have been attempts to establish one, most notably in 2018 when the CFPB and Treasury both published reports including proposals for establishing sandboxes. \n",
    "\n",
    "These tools do exist in some states: \n",
    " - Arizona passed a sandbox law in 2018\n",
    " - Wyoming in 2019\n",
    " - Washington DC is actively considering such a law."
   ]
  },
  {
   "cell_type": "markdown",
   "metadata": {},
   "source": [
    "## Comply with US fintech regulations\n",
    "\n",
    "Although there is no single answer, since each business is subject to their own obligatory regulations, there are some simple steps that every fintech company should consider:\n",
    "\n",
    " 1. Request independent legal counsel regarding compliance issues, before any concrete decisions are taken. \n",
    " 2. Compliance requires dedicated talent, so hiring must be done carefuly.\n",
    " 3. They need to make sure they dedicate sufficient resource to compliance tasks.\n",
    " 4. Consider partnerships.\n",
    " 5. The regulatory landscape is shifting constantly, with laws governing fintechs in a constant state of flux\n",
    "     - **Every fintech business should remain alert and prepared for changes to their obligations.**"
   ]
  },
  {
   "cell_type": "code",
   "execution_count": null,
   "metadata": {},
   "outputs": [],
   "source": []
  }
 ],
 "metadata": {
  "kernelspec": {
   "display_name": "Python 3",
   "language": "python",
   "name": "python3"
  },
  "language_info": {
   "codemirror_mode": {
    "name": "ipython",
    "version": 3
   },
   "file_extension": ".py",
   "mimetype": "text/x-python",
   "name": "python",
   "nbconvert_exporter": "python",
   "pygments_lexer": "ipython3",
   "version": "3.7.6"
  }
 },
 "nbformat": 4,
 "nbformat_minor": 4
}

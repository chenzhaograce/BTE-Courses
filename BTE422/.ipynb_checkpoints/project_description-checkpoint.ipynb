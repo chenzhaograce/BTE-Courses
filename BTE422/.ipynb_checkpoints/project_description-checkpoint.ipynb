{
 "cells": [
  {
   "cell_type": "markdown",
   "metadata": {},
   "source": [
    "# Project description and structure\n",
    "\n",
    "You will be divided into teams of 3-4, and each team will develop a plan for their own fintech startup. It doesn't have to be something new or complicated, feel free to get ideas from already existing applications. \n",
    "\n",
    "*However, if you do develop something innovative, that would be awesome!*\n",
    "\n",
    "Each team will present their work to the rest of the in stages (TBD on specific dates). \n",
    "\n",
    "There is no report format template, each team will be free to write the report in any way they see fit.\n",
    "\n",
    "\n",
    "## Project structure\n",
    "\n",
    "The project structure will mostly follow the actual steps required to create a real-world fintech startup. The idea is that you will get a first-hand experience of what you need to do when the time comes for you to build your own fintech startup.\n",
    "\n",
    " 1. Step 1: "
   ]
  }
 ],
 "metadata": {
  "kernelspec": {
   "display_name": "Python 3",
   "language": "python",
   "name": "python3"
  },
  "language_info": {
   "codemirror_mode": {
    "name": "ipython",
    "version": 3
   },
   "file_extension": ".py",
   "mimetype": "text/x-python",
   "name": "python",
   "nbconvert_exporter": "python",
   "pygments_lexer": "ipython3",
   "version": "3.7.6"
  }
 },
 "nbformat": 4,
 "nbformat_minor": 4
}

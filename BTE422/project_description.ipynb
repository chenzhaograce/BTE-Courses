{
 "cells": [
  {
   "cell_type": "markdown",
   "metadata": {},
   "source": [
    "# Project description and structure\n",
    "\n",
    "You will be divided into teams of 3-4, and each team will develop a plan for their own fintech startup. I will provide examples of recent fintech applications from which you can choose, and your goal is, by the end of the semester, to build a small prototype. If you want, however, to build something new, feel free to do it!\n",
    "\n",
    "*If you do develop something innovative, that would be awesome!*\n",
    "\n",
    "Each team will present their work to the rest of the class in stages and on pre-determined dates (TBD). \n",
    "\n",
    "There is no report format template, each team will be free to write the report in any way they see fit.\n",
    "\n",
    "\n",
    "## Project structure\n",
    "\n",
    "The project structure will mostly follow actual steps required to create a real-world fintech startup. The idea is that you will get a first-hand experience of what you need to do when the time comes for you to build your own company later.\n",
    "\n",
    "The steps that you need to follow are:\n",
    "\n",
    " 1. Focus on a specific fintech area, and propose your application.\n",
    " 2. Bring the proposed application in shape and choose development approach.\n",
    " 3. Develop a minimum viable product (MVP)\n"
   ]
  },
  {
   "cell_type": "markdown",
   "metadata": {},
   "source": [
    "#### Step 1\n",
    "\n",
    "As a first step, each team will decide the fintech area that it will focus on, as well as the application it will work on. You can choose to develop among the provided ones and, if you feel confident about it, propose potential enhancements.  \n",
    "\n",
    "Based on the fintech area you choose, you will have to give a brief description of the privacy and technology regulations that most affect your product. Remember that fintech businesses, even those offering simple products/services, are subject to regulation at both a federal and state level and most probably have to secure licences from multiple federal and state regulators, and comply with the requirements set out by those bodies.\n",
    "\n",
    "**Compliance should be a top-level priority for any fintech business looking to operate in the US!**"
   ]
  },
  {
   "cell_type": "markdown",
   "metadata": {},
   "source": [
    "#### Step 2\n",
    "\n",
    "In this step, each team will decide how to build their proposed concept. The purpose of this step is to demonstrate the technology specifics that you will use. For example, if the proposed application requires the development of a deep neural network for classifying transactions as credit frauds, then the team will have to present the steps they will follow to develop their application. These steps, for example, can include what kind of data they use, pre-processing steps, and deep network architecture. You are expected to provide any details you deem necessary for implementing your idea."
   ]
  },
  {
   "cell_type": "markdown",
   "metadata": {},
   "source": [
    "#### Step 3\n",
    "\n",
    "This is the implementation part of your report. Remember that all teams will use Python to write their code. However, you are not expected to build everything from scratch. During class, we will go over many Python examples that you can use later for your projects, probably with few modifications to reflect your explicit needs. \n",
    "\n",
    "We will establish weekly meetings with every team for evaluating the code you have and assist you if necessary. However, do not expect to develop the entire project during meeeting hours. Use any source necessary, especially in the web. There are many tools, such as [Stackoverflow](https://stackoverflow.com/) or publicly available Github repositories, which you can use. "
   ]
  },
  {
   "cell_type": "code",
   "execution_count": null,
   "metadata": {},
   "outputs": [],
   "source": []
  }
 ],
 "metadata": {
  "kernelspec": {
   "display_name": "Python 3",
   "language": "python",
   "name": "python3"
  },
  "language_info": {
   "codemirror_mode": {
    "name": "ipython",
    "version": 3
   },
   "file_extension": ".py",
   "mimetype": "text/x-python",
   "name": "python",
   "nbconvert_exporter": "python",
   "pygments_lexer": "ipython3",
   "version": "3.7.6"
  }
 },
 "nbformat": 4,
 "nbformat_minor": 4
}

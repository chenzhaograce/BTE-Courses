{
 "cells": [
  {
   "cell_type": "markdown",
   "metadata": {},
   "source": [
    "# Decomposition, Abstractions, Functions\n",
    "\n",
    "So far we wrote standalone code examples that work only for specific variable names\n",
    "\n",
    "That kind of coding, however, has a rather narrow scope\n",
    "\n",
    "It is more convenient to work with more abstract objects, like functions\n",
    "\n",
    "## Functions\n",
    "\n",
    "In previous examples we used Python built-in functions (e.g., `max`, `abs`)\n",
    "\n",
    "Let's learn now how to write our own functions"
   ]
  },
  {
   "cell_type": "markdown",
   "metadata": {},
   "source": [
    "### Definitions\n",
    "\n",
    "A Python function is generally expressed as:\n",
    "\n",
    "```python\n",
    "def function_name(arguments):\n",
    "    ...function body...\n",
    "```\n",
    "\n",
    "**Example**: write a function that takes two numbers and returns the added value\n",
    "\n",
    "```python\n",
    "def add_num(a, b):\n",
    "    res = a + b\n",
    "    return res\n",
    "```\n",
    "\n",
    "Respect argument order when invocatig function e.g., if you want to add 3 and 4, calling `add_num(3, 4)` will bind `a=3` and `b=4`\n",
    "\n",
    "Function keywords:\n",
    "- `def` for *defining* the function\n",
    "- `return` returns an output. If no value is given in return, the function returns `None`\n",
    "\n",
    "**Finger exercise**: Write a function `isIn` that accepts two strings as arguments and returns `True` if either string occurs anywhere in the other, and `False` otherwise. *Hint*: you might want to use the built-in `str` operation `in`."
   ]
  },
  {
   "cell_type": "code",
   "execution_count": 2,
   "metadata": {},
   "outputs": [
    {
     "name": "stdout",
     "output_type": "stream",
     "text": [
      "True\n"
     ]
    }
   ],
   "source": [
    "def isIn(str1, str2):\n",
    "    if str1 in str2:\n",
    "        return True\n",
    "    else:\n",
    "        return False\n",
    "\n",
    "a = \"Tech\"\n",
    "b = \"Business Technology\"\n",
    "\n",
    "print(isIn(a,b))"
   ]
  },
  {
   "cell_type": "markdown",
   "metadata": {},
   "source": [
    "#### Warning!\n",
    "\n",
    "When passing values to function arguments, you have two options:\n",
    "- Pass values in a *positional* manner:\n",
    "    * **Example**: in the previous example, `isIn(a, b)` will assign `a` to function argument `str1` and `b` to `str2`\n",
    "    * Positional argument passing has to respect the order the arguments are in `def()`\n",
    "- Pass values using *keywords*:\n",
    "    * This option lets you pass arguments in any order you want, as long as you use assignments while invocating the function\n",
    "    * **Example**: for the previous example, you can call `isIn` also as: \n",
    "    ```python \n",
    "       isIn(str2=b, str1=a)\n",
    "    ```\n",
    "    * You don't need to respect order in that case\n",
    "    * Use this option mostly for functions with a large number of arguments of various types (e.g., `int`, `float`, `str`)\n",
    "    * **it is not legal to follow a keyword argument with a non-keyword argument!!** The following will produce an error:\n",
    "        ```python\n",
    "            isIn(str1=a, b)\n",
    "          ```\n",
    "\n",
    "If you want, you can also use default values to function arguments that allows programmers to call a function with fewer than the specified number of arguments. Let's see an example:"
   ]
  },
  {
   "cell_type": "code",
   "execution_count": 5,
   "metadata": {},
   "outputs": [
    {
     "name": "stdout",
     "output_type": "stream",
     "text": [
      "John Smith\n",
      "Smith, John\n",
      "Smith, John\n"
     ]
    }
   ],
   "source": [
    "def printName(firstName, lastName, reverse = False):\n",
    "    if reverse:\n",
    "        print(lastName + ', ' + firstName)\n",
    "    else:\n",
    "        print(firstName, lastName)\n",
    "\n",
    "printName(\"John\", \"Smith\")\n",
    "printName(\"John\", \"Smith\", True)\n",
    "printName(\"John\", \"Smith\", reverse=True)"
   ]
  },
  {
   "cell_type": "markdown",
   "metadata": {},
   "source": [
    "## Scoping\n",
    "\n",
    "Parameters have a scope depending on the level they were defined\n",
    "\n",
    "Levels are distinguished as either **global** or **local**:\n",
    "- global level is everything that is defined in the main thread\n",
    "- local level is considered what exists within a function body\n",
    "    * if there are nested functions (functions within functions), then every nested function has its own local level\n",
    "\n",
    "Better to realize that with, what else? An example:\n",
    "\n",
    "```python\n",
    "def f(x): #name x used as formal parameter\n",
    "    y = 1\n",
    "    x = x + y\n",
    "    print('x =', x)\n",
    "    return x\n",
    "\n",
    "x = 3\n",
    "y = 2\n",
    "z = f(x) #value of x used as actual parameter\n",
    "print('z =', z)\n",
    "print('x =', x)\n",
    "print('y =', y)\n",
    "```"
   ]
  },
  {
   "cell_type": "markdown",
   "metadata": {},
   "source": [
    "In this example, we see a variable named `y` defined in a global level (`y=2`) and a same-name variable defined locally within function `f(x)`\n",
    "\n",
    "What do you believe the result from the `print` prompts will be? Let's find out:"
   ]
  },
  {
   "cell_type": "code",
   "execution_count": 6,
   "metadata": {},
   "outputs": [
    {
     "name": "stdout",
     "output_type": "stream",
     "text": [
      "x = 4\n",
      "z = 4\n",
      "x = 3\n",
      "y = 2\n"
     ]
    }
   ],
   "source": [
    "def f(x): #name x used as formal parameter\n",
    "    y = 1\n",
    "    x = x + y\n",
    "    print('x =', x)\n",
    "    return x\n",
    "\n",
    "x = 3\n",
    "y = 2\n",
    "z = f(x) #value of x used as actual parameter\n",
    "print('z =', z)\n",
    "print('x =', x)\n",
    "print('y =', y)"
   ]
  },
  {
   "cell_type": "markdown",
   "metadata": {},
   "source": [
    "As you can see, defining `y=2` in a global level does not affect the result of the `y = x + y` assignment within the body of function `f(x)`\n",
    "\n",
    "That is because variables defined within functions (*locally*) have a scope **ONLY** within this specific function\n",
    "\n",
    "Locally defined variables that have same names as globally defined ones always take precedence for any commands given within the function (i.e., global variables, unless passed as function arguments, are like not existing at all!)\n",
    "\n",
    "Next example will further illustrate scoping in more detail:\n",
    "\n",
    "```python\n",
    "def f(x):\n",
    "    def g():\n",
    "        x = 'abc'\n",
    "        print('x =', x)\n",
    "    def h():\n",
    "        z = x\n",
    "        print('z =', z)\n",
    "    x = x + 1\n",
    "    print('x =', x)\n",
    "    h()\n",
    "    g()\n",
    "    print('x =', x)\n",
    "    \n",
    "    return g\n",
    "\n",
    "x = 3\n",
    "z = f(x)\n",
    "print('x =', x)\n",
    "print('z =', z)\n",
    "z()\n",
    "```"
   ]
  },
  {
   "cell_type": "code",
   "execution_count": 7,
   "metadata": {},
   "outputs": [
    {
     "name": "stdout",
     "output_type": "stream",
     "text": [
      "x = 4\n",
      "z = 4\n",
      "x = abc\n",
      "x = 4\n",
      "x = 3\n",
      "z = <function f.<locals>.g at 0x7fc2e273b560>\n",
      "x = abc\n"
     ]
    }
   ],
   "source": [
    "def f(x):\n",
    "    def g():\n",
    "        x = 'abc'\n",
    "        print('x =', x)\n",
    "    def h():\n",
    "        z = x\n",
    "        print('z =', z)\n",
    "    x = x + 1\n",
    "    print('x =', x)\n",
    "    h()\n",
    "    g()\n",
    "    print('x =', x)\n",
    "    \n",
    "    return g\n",
    "\n",
    "x = 3\n",
    "z = f(x)\n",
    "print('x =', x)\n",
    "print('z =', z)\n",
    "z()"
   ]
  },
  {
   "cell_type": "markdown",
   "metadata": {},
   "source": [
    "<img src=\"images/python-tutor.png\" width=400/>"
   ]
  },
  {
   "cell_type": "markdown",
   "metadata": {},
   "source": [
    "### Tip:\n",
    "\n",
    "<img src=\"images/flow.png\" />"
   ]
  },
  {
   "cell_type": "markdown",
   "metadata": {},
   "source": [
    "Discerning between global and local levels when it comes to variables (especially when the same variable name is used) is very important!\n",
    "\n",
    "Next example highlights this importance:\n",
    "\n",
    "```python\n",
    "def f():\n",
    "    print(x)\n",
    "\n",
    "def g():\n",
    "    print(x)\n",
    "    x = 1\n",
    "\n",
    "x = 3\n",
    "f()\n",
    "x = 3\n",
    "g()\n",
    "```\n",
    "\n",
    "General rule:\n",
    "- When you are inside a function, you can access a variable defined outside\n",
    "- But, cannot modify a variable defined outside "
   ]
  },
  {
   "cell_type": "code",
   "execution_count": 9,
   "metadata": {},
   "outputs": [
    {
     "name": "stdout",
     "output_type": "stream",
     "text": [
      "3\n"
     ]
    },
    {
     "ename": "UnboundLocalError",
     "evalue": "local variable 'x' referenced before assignment",
     "output_type": "error",
     "traceback": [
      "\u001b[0;31m---------------------------------------------------------------------------\u001b[0m",
      "\u001b[0;31mUnboundLocalError\u001b[0m                         Traceback (most recent call last)",
      "\u001b[0;32m<ipython-input-9-06934e6b9d6e>\u001b[0m in \u001b[0;36m<module>\u001b[0;34m\u001b[0m\n\u001b[1;32m      9\u001b[0m \u001b[0mf\u001b[0m\u001b[0;34m(\u001b[0m\u001b[0;34m)\u001b[0m\u001b[0;34m\u001b[0m\u001b[0;34m\u001b[0m\u001b[0m\n\u001b[1;32m     10\u001b[0m \u001b[0mx\u001b[0m \u001b[0;34m=\u001b[0m \u001b[0;36m3\u001b[0m\u001b[0;34m\u001b[0m\u001b[0;34m\u001b[0m\u001b[0m\n\u001b[0;32m---> 11\u001b[0;31m \u001b[0mg\u001b[0m\u001b[0;34m(\u001b[0m\u001b[0;34m)\u001b[0m\u001b[0;34m\u001b[0m\u001b[0;34m\u001b[0m\u001b[0m\n\u001b[0m",
      "\u001b[0;32m<ipython-input-9-06934e6b9d6e>\u001b[0m in \u001b[0;36mg\u001b[0;34m()\u001b[0m\n\u001b[1;32m      3\u001b[0m \u001b[0;34m\u001b[0m\u001b[0m\n\u001b[1;32m      4\u001b[0m \u001b[0;32mdef\u001b[0m \u001b[0mg\u001b[0m\u001b[0;34m(\u001b[0m\u001b[0;34m)\u001b[0m\u001b[0;34m:\u001b[0m\u001b[0;34m\u001b[0m\u001b[0;34m\u001b[0m\u001b[0m\n\u001b[0;32m----> 5\u001b[0;31m     \u001b[0mprint\u001b[0m\u001b[0;34m(\u001b[0m\u001b[0mx\u001b[0m\u001b[0;34m)\u001b[0m\u001b[0;34m\u001b[0m\u001b[0;34m\u001b[0m\u001b[0m\n\u001b[0m\u001b[1;32m      6\u001b[0m     \u001b[0mx\u001b[0m \u001b[0;34m=\u001b[0m \u001b[0;36m1\u001b[0m\u001b[0;34m\u001b[0m\u001b[0;34m\u001b[0m\u001b[0m\n\u001b[1;32m      7\u001b[0m \u001b[0;34m\u001b[0m\u001b[0m\n",
      "\u001b[0;31mUnboundLocalError\u001b[0m: local variable 'x' referenced before assignment"
     ]
    }
   ],
   "source": [
    "def f():\n",
    "    print(x)\n",
    "\n",
    "def g():\n",
    "    print(x)\n",
    "    x = 1\n",
    "\n",
    "x = 3\n",
    "f()\n",
    "x = 3\n",
    "g()"
   ]
  },
  {
   "cell_type": "markdown",
   "metadata": {},
   "source": [
    "**What happens when no `return` statement?**\n",
    "\n",
    "```python\n",
    "def is_even(i):\n",
    "    \"\"\"\n",
    "    Input: i, a positive int\n",
    "    Does not return anything\n",
    "    \"\"\"\n",
    "    i%2 == 0\n",
    "```\n",
    "\n",
    "In this case, a `None` value is actually returned\n",
    "\n",
    "This happens only if whatever the function returns is assigned to variable\n",
    "- if the above function is simply called as `is_even(3)`, then nothing will happen\n",
    "- if, on the other hand, we call `x = is_even(3)`, then `x = None`"
   ]
  },
  {
   "cell_type": "markdown",
   "metadata": {},
   "source": [
    "## Visualize the flow\n",
    "\n",
    "If you want to take a look to how your code jumps from line to line:\n",
    "\n",
    "http://www.pythontutor.com/"
   ]
  },
  {
   "cell_type": "markdown",
   "metadata": {},
   "source": [
    "## Decomposition and Abstraction\n",
    "\n",
    "Functions help us create elements that make our lives easier\n",
    "\n",
    "*E.g.,* having function `max` for (obviously) finding the maximum among a vector of values is much easier to use than having to write the code for that every time we need it\n",
    "\n",
    "Imagine having something similar for more complex functions, such as the cube root\n",
    "\n",
    "Functions manage that through **decomposition** and **abstraction**\n",
    "\n",
    "**Decomposition**: allows the code to be broken down into self-contained parts, able to reused in many instances\n",
    "\n",
    "**Abstraction**: allows hiding details (Indeed super important!!)\n",
    "- pieces of code as black boxes, where we only care for the inputs given and the value(s) returned, and we do not care at all regarding what's inside"
   ]
  },
  {
   "cell_type": "code",
   "execution_count": null,
   "metadata": {},
   "outputs": [],
   "source": []
  }
 ],
 "metadata": {
  "kernelspec": {
   "display_name": "Python 3",
   "language": "python",
   "name": "python3"
  },
  "language_info": {
   "codemirror_mode": {
    "name": "ipython",
    "version": 3
   },
   "file_extension": ".py",
   "mimetype": "text/x-python",
   "name": "python",
   "nbconvert_exporter": "python",
   "pygments_lexer": "ipython3",
   "version": "3.7.6"
  }
 },
 "nbformat": 4,
 "nbformat_minor": 4
}

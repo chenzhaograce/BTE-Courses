{
 "cells": [
  {
   "cell_type": "markdown",
   "metadata": {},
   "source": [
    "## Strings and Input\n",
    "\n",
    "- Remember from last class that objects of type `str` represent characters\n",
    "- Character objects can be written either using single (`'abc'`), or double quotes (`\"abc\"`)\n",
    "\n",
    "Quick test: `'123'` is character or number?\n",
    "\n",
    "**Overloaded operators**\n",
    "\n",
    "They are common operators that have different meaning depending on the objects they are applied upon\n",
    "- `+` means addition when objects are both numbers, or concatenation when objects are strings\n",
    "    * Example: `3 + 4 = 7`, `'a' + 'a' = 'aa'`\n",
    "- `*` mean multiplication for number objects, repetition when applied to an `int` and a `str`\n",
    "    * Expression `n*s`, with `n` an `int` and `s` a `str` $\\rightarrow$ `str` with `n` repeats of `s`.\n",
    "    * Example: expression `3*'a'` returns a string of characters `a` repeated three times\n",
    "    * `'a'*'a'` will return a type error\n",
    "\n",
    "**Type checking** is one of the most important features in Python\n",
    "- They capture errors that might not be obvious while writing code\n",
    "- Example: what '4' < 3 will return?"
   ]
  },
  {
   "cell_type": "code",
   "execution_count": null,
   "metadata": {},
   "outputs": [],
   "source": [
    "print('a')\n",
    "print(3*4)\n",
    "print(3*'a')\n",
    "print(3+4)\n",
    "print('a'+'a')\n",
    "\n",
    "print('a'*'a')"
   ]
  },
  {
   "cell_type": "markdown",
   "metadata": {},
   "source": [
    "<img src=\"images/string-operations.png\" width=800/>"
   ]
  },
  {
   "cell_type": "markdown",
   "metadata": {},
   "source": [
    "1. *Length*: `len('abc')` returns 3\n",
    "2. *Indexing*: `'abc'[0]` returns `'a'`, `'abc'[3]` returns an index error\n",
    "    * Use negative values to index beginning from the end of the string\n",
    "    * Example: `'abc'[-1]` returns c\n",
    "3. *Slicing*: For a string `s`, `s[start:end]` returns a substring starting from index `start` and ending on `end-1`\n",
    "    * Example: `'abc'[1:3]` returns `bc`\n",
    "    * Q: What does `'abc'[0:len('abc')]` returns?"
   ]
  },
  {
   "cell_type": "markdown",
   "metadata": {},
   "source": [
    "- `'abc'[:2]` is equivalent to `'abc'[0:2]`, `'abc'[1:]` is equivalent to `'abc'[1:len('abc')]`\n",
    "- `'abc'[:]` is equivalent to `'abc'[0:len('abc')]`\n",
    "- Use a third step argument to select indices every step values:\n",
    "    * `'123456789'[0:8:2]` returns `1357`"
   ]
  },
  {
   "cell_type": "markdown",
   "metadata": {},
   "source": [
    "### Type conversions\n",
    "\n",
    "- Also known as **type casts**\n",
    "- Used often in Python\n",
    "- Use type name to convert values to that type. E.g., `int('3')` returns `3`\n",
    "\n",
    "Be careful with type casts. A `float` converted to `int` will truncate (not round up/down) decimals. E.g., `int(3.9)` returns `3`\n",
    "\n",
    "Let's see some examples of type conversions used in `print`:"
   ]
  },
  {
   "cell_type": "markdown",
   "metadata": {},
   "source": [
    "Decimal `.0` appears because `fraction` is a float, and multiplying an `int` with a `float` returns `float`\n",
    "\n",
    "After Python 3.6, string expressions in `print` function can also be built using **formatted string literal** (f-string)\n",
    " - f-strings contain both sequences of characters and expressions bracketed by {}\n",
    " - Evaluation at runtime, automatic conversion to strings\n",
    " \n",
    "f-strings are useful to control the appearance of the output using *modifiers*\n",
    "- Use colon `:` to separate the expression from the control modifier\n",
    "    * `f'{3.14159:.2f}'` evaluates the expression `3.14159` to `3.14` (`.2` denotes two decimals)"
   ]
  },
  {
   "cell_type": "code",
   "execution_count": 1,
   "metadata": {},
   "outputs": [
    {
     "name": "stdout",
     "output_type": "stream",
     "text": [
      "15000000.0 is 50.0 % of 30000000\n",
      "15000000.0 is 50.0% of 30000000\n",
      "15000000 is 50.0% of 30000000\n",
      "15000000 is 50.0% of 30000000\n",
      "15,000,000 is 50.0% of 30,000,000\n"
     ]
    }
   ],
   "source": [
    "num = 30000000\n",
    "fraction = 1/2\n",
    "print(num*fraction, 'is', fraction*100, '%', 'of', num)\n",
    "print(num*fraction, 'is', str(fraction*100) + '%', 'of', num)\n",
    "\n",
    "print(int(num*fraction), 'is', str(fraction*100) + '%', 'of', num)\n",
    "\n",
    "# print with f-strings\n",
    "print(f'{int(num*fraction)} is {fraction*100}% of {num}')\n",
    "\n",
    "# print with f-strings and control modifiers. Comma modifier instructs Python to use commas on thousands\n",
    "print(f'{num*fraction:,.0f} is {fraction*100}% of {num:,}')"
   ]
  },
  {
   "cell_type": "markdown",
   "metadata": {},
   "source": [
    "### Input\n",
    "\n",
    "- Function `input` used to get inputs directly from the user\n",
    "- Takes a string argument, displays it as a prompt\n",
    "- The function then waits for the user to type something. After that, the user presses `Enter` to let the code proceed further\n",
    "- What the user types, is interpreted as a string, even if you type an integer"
   ]
  },
  {
   "cell_type": "code",
   "execution_count": null,
   "metadata": {},
   "outputs": [],
   "source": [
    "n = input('Enter an int: ')\n",
    "print(type(n))"
   ]
  },
  {
   "cell_type": "code",
   "execution_count": null,
   "metadata": {},
   "outputs": [],
   "source": [
    "name = input('Enter your name: ')"
   ]
  },
  {
   "cell_type": "markdown",
   "metadata": {},
   "source": [
    "Variable `name` takes the value typed by the user (in this case it will be `John Smith`)\n",
    "\n",
    "You can check if the assignment done correctly using `print`"
   ]
  },
  {
   "cell_type": "code",
   "execution_count": null,
   "metadata": {},
   "outputs": [],
   "source": [
    "print('Your name is: ', name)"
   ]
  },
  {
   "cell_type": "markdown",
   "metadata": {},
   "source": [
    "**Finger exercise**: Write code that asks the user to enter their birthday in the form `mm/dd/yyyy`, and then prints a string of the form ‘You were born in the year yyyy.’"
   ]
  },
  {
   "cell_type": "code",
   "execution_count": null,
   "metadata": {},
   "outputs": [],
   "source": []
  }
 ],
 "metadata": {
  "kernelspec": {
   "display_name": "Python 3",
   "language": "python",
   "name": "python3"
  },
  "language_info": {
   "codemirror_mode": {
    "name": "ipython",
    "version": 3
   },
   "file_extension": ".py",
   "mimetype": "text/x-python",
   "name": "python",
   "nbconvert_exporter": "python",
   "pygments_lexer": "ipython3",
   "version": "3.7.6"
  }
 },
 "nbformat": 4,
 "nbformat_minor": 4
}

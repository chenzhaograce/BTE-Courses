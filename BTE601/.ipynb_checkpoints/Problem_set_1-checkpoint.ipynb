{
 "cells": [
  {
   "cell_type": "markdown",
   "metadata": {},
   "source": [
    "# Problem Set 1\n",
    "\n",
    "\n",
    "<span style=\"color:red\">**Handed out:**</span> Monday August 23, 2021\n",
    "\n",
    "**Due date:** Thursday September 09, 2021\n",
    "\n",
    "\n",
    "Problem set 1 will introduce you to the basic Python modules that you will see during the first two weeks of class. Remember that for your benefit, it will be better for you to start working on the assignments as early as possible. That way, you will have everything fresh in your mind and will be easier to finish with the assignment in due course. You will also avoid any late-submissions that carry grade reduction.\n",
    "\n",
    "Finally, make sure you familiarize yourselves with how Anaconda and Jupyter notbooks work before proceeding with the actual assignments.\n",
    "\n",
    "**New Python package! `NumPy`**\n",
    "\n",
    "For the assignments in this set (and for all subsequent sets), you will need to use `NumPy`. `NumPy` is the fundamental package for scientific computing in Python. It is a Python library that provides a multidimensional array object, various derived objects (such as masked arrays and matrices), and an assortment of routines for fast operations on arrays, including mathematical, logical, shape manipulation, sorting, selecting, I/O, discrete Fourier transforms, basic linear algebra, basic statistical operations, random simulation and much more.\n",
    "\n",
    "Of course, you won't need all of those!\n",
    "\n",
    "First import `NumPy`\n",
    "```python\n",
    "import numpy as np\n",
    "```\n",
    "\n",
    "Use the alias `np` to call any `NumPy` functions:\n",
    "```python\n",
    "np.add(1,2) # add two values\n",
    "np.pow(2,2) # same as 2**2\n",
    "```\n",
    "\n",
    "You can always refer to the [Python Wikibook](https://en.wikibooks.org/wiki/Python_Programming) for more information on Python packages, functions, and more. And, don't forget: *Google is your friend!*"
   ]
  },
  {
   "cell_type": "markdown",
   "metadata": {},
   "source": [
    "## Assignment 1: A Very Simple Program: Raising a number to a power and taking a logarithm\n",
    "\n",
    "Remember the standard program elements:\n",
    "- print out results (using the `print` operation)\n",
    "- read input from a user at the console (using the `input` function)\n",
    "- store values in variables, so that the program can access that value as needed."
   ]
  },
  {
   "cell_type": "markdown",
   "metadata": {},
   "source": [
    "Write a program in Python that does the following:\n",
    "- Enter a number `x`\n",
    "- Enter a number `y`\n",
    "- Print $x^y$\n",
    "- Print $log_2(x)$\n",
    "\n",
    "**Assist:** If `x = 2` and `y = 3`, your printed statements will be:\n",
    "\n",
    "<span style=\"color:blue\">Enter number x:</span> 2\n",
    "    \n",
    "<span style=\"color:blue\">Enter number y:</span> 3\n",
    "    \n",
    "<span style=\"color:blue\">x**y:</span> 8\n",
    "    \n",
    "<span style=\"color:blue\">log(x):</span> 1\n"
   ]
  },
  {
   "cell_type": "code",
   "execution_count": null,
   "metadata": {},
   "outputs": [],
   "source": []
  },
  {
   "cell_type": "markdown",
   "metadata": {},
   "source": [
    "## Assignment 2: House hunting\n",
    "\n",
    "You have graduated from UM and now have a great job as a junior project manager! You move to the San Francisco Bay Area and decide that you want to start saving to buy a house. As housing prices are very high in the Bay Area, you realize you are going to have to save for several years before you can afford to make the down payment on a house. In this assignment, you have to determine how long it will take you to save enough money to make the down payment given the following assumptions:\n",
    "\n",
    "1. Call the cost of your dream home `total_cost`. \n",
    "2. Call the portion of the cost needed for a down payment `portion_down_payment`. For simplicity, assume that `portion_down_payment = 0.25 (25%)`. \n",
    "3. Call the amount that you have saved thus far `current_savings`. You start with a current savings of 0 dollars. \n",
    "4. Assume that you invest your current savings wisely, with an annual return of `r` (in other words, at the end of each month, you receive an additional `current_savings*r/12` funds to put into your savings – the 12 is because `r` is an annual rate). Assume that your investments earn a return of `r = 0.04 (4%)`. \n",
    "5. Assume your annual salary is `annual_salary`. \n",
    "6. Assume you are going to dedicate a certain amount of your salary each month to saving for the down payment. Call that `portion_saved`. This variable should be in decimal form (i.e. 0.1 for 10%). \n",
    "7. At the end of each month, your savings will be increased by the return on your investment, plus a percentage of your monthly salary (annual salary / 12).\n",
    "8. Be careful about values that represent annual amounts and those that represent monthly amounts.\n",
    "\n",
    "Write a program to calculate how many months it will take you to save up enough money for a down payment. You will want your main variables to be floats, so you should cast user inputs to floats.\n",
    "\n",
    "Your program should ask the user to enter the following variables: \n",
    "1. The starting annual salary (`annual_salary`) \n",
    "2. The portion of salary to be saved (`portion_saved`)\n",
    "3. The cost of your dream home (`total_cost`)\n",
    "\n",
    "**Hints:** To help you get started, here is a rough outline of the stages you should probably follow in writing your code: \n",
    "- Retrieve user input. Look at `input()` if you need help with getting user input. For this problem set, you can assume that users will enter valid input (e.g. they won’t enter a `str` when you expect an `int`) \n",
    "- Initialize some state variables. You should decide what information you need. Be careful about values that represent annual amounts and those that represent monthly amounts.\n",
    "\n",
    "Printouts should be like:\n",
    "\n",
    "<span style=\"color:blue\">Enter your annual salary:</span> 120000\n",
    "    \n",
    "<span style=\"color:blue\">Enter the percent of your salary to save, as a decimal:</span> .10\n",
    "    \n",
    "<span style=\"color:blue\">Enter the cost of your dream home:</span> 1000000\n",
    "    \n",
    "<span style=\"color:blue\">Number of months:</span> 183"
   ]
  },
  {
   "cell_type": "code",
   "execution_count": null,
   "metadata": {},
   "outputs": [],
   "source": []
  },
  {
   "cell_type": "markdown",
   "metadata": {},
   "source": [
    "## Assignment 3: Saving with raise\n",
    "\n",
    "Modify the program from Assignment 2, to include the following:\n",
    "1. Have the user input a semi-annual salary raise `semi_annual_raise` (as a decimal percentage) \n",
    "2. After the 6th month, increase your *annual salary* by that percentage. Do the same after the 12th month, the 18th month, and so on.\n",
    "    * **Hint:** Use the mod (\\%) operator\n",
    "\n",
    "Printouts should be like:\n",
    "\n",
    "<span style=\"color:blue\">Enter your annual salary:</span> 120000\n",
    "    \n",
    "<span style=\"color:blue\">Enter the percent of your salary to save, as a decimal:</span> . 05\n",
    "    \n",
    "<span style=\"color:blue\">Enter the cost of your dream home:</span> 500000\n",
    "\n",
    "<span style=\"color:blue\">Enter the semi-annual raise, as a decimal:</span> .03\n",
    "    \n",
    "<span style=\"color:blue\">Number of months:</span> 142"
   ]
  },
  {
   "cell_type": "code",
   "execution_count": null,
   "metadata": {},
   "outputs": [],
   "source": []
  },
  {
   "cell_type": "markdown",
   "metadata": {},
   "source": [
    "## Assignment 4: Convert Celsius to Farenheit\n",
    "\n",
    "Usually, for those of us not originally from the US, one of the things that give us headaches is the difference between the Standard and Imperical metric systems. We are usually buffled when we need to calculate distances in feet, yards, and miles, rather than meters and kilometers, or when we need to calculate the weight in ounces and pounds, rather than grams and kilograms.\n",
    "\n",
    "Another mind-boggling conversion is regarding measuring temperature in Farenheit rather than Celsius. The conversion formula is shown below:\n",
    "\n",
    "$F = (9/5) * C + 32$\n",
    "\n",
    "The purpose of this assignment is to write a program in Python converting the temperature in Celsius to Fahrenheit. Have the program output the values side-by-side. On the left, it prints out the temperature in Celsius, and on the right in Fahrenheit. Have the data print out all integer values of Celsius from 0 to 100 in 3 degree increments. Have the data print out the Fahrenheit to two decimal points.\n",
    "\n",
    "**Hint:** Format the `print` as: \n",
    "```python\n",
    "print('%s %d  %s %.2f' % ('Celsius: ', celsius, 'Farenheit: ', farenheit))\n",
    "```\n",
    "That way, you will see only two decimal points when printing the Farenheit values."
   ]
  },
  {
   "cell_type": "code",
   "execution_count": null,
   "metadata": {},
   "outputs": [],
   "source": []
  },
  {
   "cell_type": "markdown",
   "metadata": {},
   "source": [
    "## Assignment 5: Functions\n",
    "\n",
    "The program you wrote for Assignment 3 does the right thing (hopefully!!), but the problem is that there are many lines within the `while` loop that makes the thread cumbersome to read. \n",
    "\n",
    "For this assignment, you will have to convert these lines into separate functions which you will call within the main program body. See the following example and consider it as a template for your program:\n",
    "\n",
    "*Example:* Write a Python code that takes two numbers as inputs and prints out their sum\n",
    "\n",
    "$1^{st}$ approach - Put everything to a single thread:\n",
    "```python\n",
    "x = int(input(\"Enter value for x: \", ))\n",
    "y = int(input(\"Enter value for y: \", ))\n",
    "\n",
    "res = x + y\n",
    "print(res)\n",
    "```\n",
    "$2^{nd}$ approach - Use a function for the addition part:\n",
    "```python\n",
    "def sum_func(x, y):\n",
    "    return x + y\n",
    "\n",
    "x = int(input(\"Enter value for x: \", ))\n",
    "y = int(input(\"Enter value for y: \", ))\n",
    "\n",
    "res = sum_func(x, y)\n",
    "print(res)\n",
    "```\n",
    "\n",
    "You are free to use any argument format for calling the function, based on what we saw in class."
   ]
  },
  {
   "cell_type": "code",
   "execution_count": null,
   "metadata": {},
   "outputs": [],
   "source": []
  }
 ],
 "metadata": {
  "kernelspec": {
   "display_name": "Python 3",
   "language": "python",
   "name": "python3"
  },
  "language_info": {
   "codemirror_mode": {
    "name": "ipython",
    "version": 3
   },
   "file_extension": ".py",
   "mimetype": "text/x-python",
   "name": "python",
   "nbconvert_exporter": "python",
   "pygments_lexer": "ipython3",
   "version": "3.7.6"
  }
 },
 "nbformat": 4,
 "nbformat_minor": 4
}

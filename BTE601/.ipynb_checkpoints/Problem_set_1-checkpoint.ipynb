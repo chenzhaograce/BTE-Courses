{
 "cells": [
  {
   "cell_type": "markdown",
   "metadata": {},
   "source": [
    "# Problem Set 1\n",
    "\n",
    "\n",
    "<span style=\"color:red\">**Handed out:**</span> Monday August 23, 2021\n",
    "\n",
    "**Due date:** Thursday September 09, 2021\n",
    "\n",
    "\n",
    "Problem set 1 will introduce you to the basic Python modules that you will see during the first two weeks of class. Remember that for your benefit, it will be better for you to "
   ]
  },
  {
   "cell_type": "code",
   "execution_count": null,
   "metadata": {},
   "outputs": [],
   "source": []
  }
 ],
 "metadata": {
  "kernelspec": {
   "display_name": "Python 3",
   "language": "python",
   "name": "python3"
  },
  "language_info": {
   "codemirror_mode": {
    "name": "ipython",
    "version": 3
   },
   "file_extension": ".py",
   "mimetype": "text/x-python",
   "name": "python",
   "nbconvert_exporter": "python",
   "pygments_lexer": "ipython3",
   "version": "3.7.6"
  }
 },
 "nbformat": 4,
 "nbformat_minor": 4
}

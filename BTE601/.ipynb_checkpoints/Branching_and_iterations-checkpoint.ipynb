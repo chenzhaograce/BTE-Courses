{
 "cells": [
  {
   "cell_type": "code",
   "execution_count": 34,
   "metadata": {},
   "outputs": [
    {
     "data": {
      "text/html": [
       "<style>.rendered_html table { font-size: 17px; }</style>"
      ],
      "text/plain": [
       "<IPython.core.display.HTML object>"
      ]
     },
     "metadata": {},
     "output_type": "display_data"
    }
   ],
   "source": [
    "from IPython.core.display import display, HTML\n",
    "display(HTML(\"<style>.rendered_html table { font-size: 17px; }</style>\"))"
   ]
  },
  {
   "cell_type": "markdown",
   "metadata": {},
   "source": [
    "# Branching and Iteration"
   ]
  },
  {
   "cell_type": "markdown",
   "metadata": {},
   "source": [
    "So far we looked at **straight-line programs**:\n",
    "- Execute statements in the order they appear, stop when run out of statements\n",
    "- Not the best way of writing code, right?"
   ]
  },
  {
   "cell_type": "markdown",
   "metadata": {},
   "source": [
    "**Branching** statements:\n",
    "* They come in two flavors: **conditional** and **iterative**\n",
    "* A conditional has three parts:\n",
    "    1. A Boolean test evaluated to either `True` or `False`\n",
    "    2. A block of code that is executed if test == `True`\n",
    "    3. An optional block of code executed if test == `False`\n",
    "\n",
    "<img src=\"images/conditional.png\" width=400 />\n",
    "\n",
    "After a conditional statement is executed, the rest of the code resumes follows"
   ]
  },
  {
   "cell_type": "markdown",
   "metadata": {},
   "source": [
    "Python implementation of a conditional:\n",
    "\n",
    "```python\n",
    "if Boolean expression:\n",
    "    block of code\n",
    "elif another Boolean expression:\n",
    "    block of code\n",
    "else:\n",
    "    block of code\n",
    "```"
   ]
  },
  {
   "cell_type": "markdown",
   "metadata": {},
   "source": [
    "Let's see a small example:\n",
    "```python\n",
    "if x%2 == 0:\n",
    "    print('Even')\n",
    "else:\n",
    "    print('Odd')\n",
    "print('Done with conditional')\n",
    "```\n",
    "\n",
    "Be very careful with indentation in Python <!-- comment here, see the notes below -->\n",
    "\n",
    "In plain words:\n",
    "- Expression `x%2 == 0` evaluates to `True` when the remainder of `x` divided by `2` is `0`\n",
    "- It evaluates to `False`, otherwise"
   ]
  },
  {
   "cell_type": "markdown",
   "metadata": {},
   "source": [
    "(Use as Notes) Give a comment for indentation in Python and how it might change the code output if not careful, and compare it with other languages, such as C that use curly brackets. Focus on the last `print` statement"
   ]
  },
  {
   "cell_type": "markdown",
   "metadata": {},
   "source": [
    "Except indentation, the notion of *line* is also important in Python\n",
    "\n",
    "Very long lines can be broken in multiple ones using backslash `\\`:\n",
    "\n",
    "```python\n",
    "x = 1111111111111111111111111111111 + 222222222222333222222222 +\\\n",
    "    3333333333333333333333333333333\n",
    "```\n",
    "You can also break a line with Python's implied line continuation using bracketing (parentheses, square brackets)\n",
    "\n",
    "The following code fragment is interpreted as two lines and returns a *\"unexpected indent\"* syntax error\n",
    "```python\n",
    "x = 1111111111111111111111111111111 + 222222222222333222222222 +\n",
    "     3333333333333333333333333333333\n",
    "```\n",
    "Wrapping the right-hand side expression in parentheses solves the issue\n",
    "```python    \n",
    "x = (1111111111111111111111111111111 + 222222222222333222222222 +\n",
    "     3333333333333333333333333333333)\n",
    "```"
   ]
  },
  {
   "cell_type": "code",
   "execution_count": 1,
   "metadata": {},
   "outputs": [
    {
     "ename": "SyntaxError",
     "evalue": "invalid syntax (<ipython-input-1-ad70883a28e7>, line 1)",
     "output_type": "error",
     "traceback": [
      "\u001b[0;36m  File \u001b[0;32m\"<ipython-input-1-ad70883a28e7>\"\u001b[0;36m, line \u001b[0;32m1\u001b[0m\n\u001b[0;31m    ```python\u001b[0m\n\u001b[0m    ^\u001b[0m\n\u001b[0;31mSyntaxError\u001b[0m\u001b[0;31m:\u001b[0m invalid syntax\n"
     ]
    }
   ],
   "source": [
    "```python\n",
    "x = 1111111111111111111111111111111 + 222222222222333222222222 +\n",
    "     3333333333333333333333333333333\n",
    "```"
   ]
  },
  {
   "cell_type": "code",
   "execution_count": 2,
   "metadata": {},
   "outputs": [],
   "source": [
    "x = (1111111111111111111111111111111 + 222222222222333222222222 +\n",
    "     3333333333333333333333333333333)"
   ]
  },
  {
   "cell_type": "markdown",
   "metadata": {},
   "source": [
    "Conditionals can also be **nested** for running multiple Boolean tests simultaneously\n",
    "- Nested conditional is when a conditional contains another conditional\n",
    "Example:\n",
    "```python\n",
    "if x%2 == 0:\n",
    "    if x%3 == 0:\n",
    "        print('Divisible by 2 and 3')\n",
    "    else:\n",
    "        print('Divisible by 2 and not by 3')\n",
    "elif x%3 == 0:\n",
    "    print('Divisible by 3 and not by 2')\n",
    "```\n",
    "\n",
    "Another approach is to use a **compound Boolean expression** for testing a conditional:\n",
    "```python\n",
    "if x < y and x < z:\n",
    "    print('x is least')\n",
    "elif y < z:\n",
    "    print('y is least')\n",
    "else:\n",
    "    print('z is least')\n",
    "```"
   ]
  },
  {
   "cell_type": "code",
   "execution_count": 4,
   "metadata": {},
   "outputs": [
    {
     "name": "stdout",
     "output_type": "stream",
     "text": [
      "x is least\n"
     ]
    }
   ],
   "source": [
    "# Let's test the compound expression\n",
    "\n",
    "x = 1\n",
    "y = 2\n",
    "z = 3\n",
    "\n",
    "if x < y and x < z:\n",
    "    print('x is least')\n",
    "elif y < z:\n",
    "    print('y is least')\n",
    "else:\n",
    "    print('z is least')"
   ]
  },
  {
   "cell_type": "markdown",
   "metadata": {},
   "source": [
    "**Finger exercise**: Write a program that examines three variables — `x`, `y`, and `z` — and prints the largest odd number among them. If none of them are odd, it should print the smallest value of the three."
   ]
  },
  {
   "cell_type": "markdown",
   "metadata": {},
   "source": [
    "(Use this cell here as Notes)\n",
    "\n",
    "You can attack this exercise in a number of ways. There are eight\n",
    "separate cases to consider: they are all odd (one case), exactly two of\n",
    "them are odd (three cases), exactly one of them is odd (three cases),\n",
    "or none of them is odd (one case)."
   ]
  },
  {
   "cell_type": "code",
   "execution_count": 6,
   "metadata": {},
   "outputs": [
    {
     "name": "stdout",
     "output_type": "stream",
     "text": [
      "3\n"
     ]
    }
   ],
   "source": [
    "# Use code here as Notes\n",
    "\n",
    "# Gets the job done, but it's long and cumbersome, right? Imagine if, instead of 3, you had 300 values to compare!\n",
    "\n",
    "if x%2 != 0 and y%2 != 0 and z%2 != 0:\n",
    "    print(max(x, y, z))\n",
    "if x%2 != 0 and y%2 != 0 and z%2 == 0:\n",
    "    print(max(x, y))\n",
    "if x%2 != 0 and y%2 == 0 and z%2 != 0:\n",
    "    print(max(x, z))\n",
    "if x%2 == 0 and y%2 != 0 and z%2 != 0:\n",
    "    print(max(y, z))\n",
    "if x%2 != 0 and y%2 == 0 and z%2 == 0:\n",
    "    print(x)\n",
    "if x%2 == 0 and y%2 != 0 and z%2 == 0:\n",
    "    print(y)\n",
    "if x%2 == 0 and y%2 == 0 and z%2 != 0:\n",
    "    print(z)\n",
    "if x%2 == 0 and y%2 == 0 and z%2 == 0:\n",
    "    print(min(x, y, z))"
   ]
  },
  {
   "cell_type": "code",
   "execution_count": 7,
   "metadata": {},
   "outputs": [
    {
     "name": "stdout",
     "output_type": "stream",
     "text": [
      "3\n"
     ]
    }
   ],
   "source": [
    "# Use code here as Notes (same finger exercise, different approach)\n",
    "\n",
    "# Begin by assigning a provisional value in the variable answer, hypothesizing that all x,y,z are even...\n",
    "answer = min(x, y, z)\n",
    "if x%2 != 0:\n",
    "    # ...updating when appropriate...\n",
    "    answer = x\n",
    "if y%2 != 0 and y > answer:\n",
    "    # ...updating when appropriate...\n",
    "    answer = y\n",
    "if z%2 != 0 and z > answer:\n",
    "    # ...updating when appropriate...\n",
    "    answer = z\n",
    "# ...and finally print the results\n",
    "print(answer)"
   ]
  },
  {
   "cell_type": "markdown",
   "metadata": {},
   "source": [
    "Python also supports **conditional expressions**, along with conditional statements:\n",
    "```python\n",
    "expr1 if condition else expr2\n",
    "```\n",
    "If `condition = True` then the value returned is `expr1`, otherwise it returns `exrp2`\n",
    "\n",
    "Example: `x = y if y > z else z`\n",
    "\n",
    "Conditional expressions can also be found within other conditional expressions\n",
    "\n",
    "The following example prints the maximum between `x,y,z`:\n",
    "```python\n",
    "print((x if x > z else z) if x > y else (y if y > z else z))\n",
    "```"
   ]
  },
  {
   "cell_type": "code",
   "execution_count": 8,
   "metadata": {},
   "outputs": [
    {
     "name": "stdout",
     "output_type": "stream",
     "text": [
      "3\n"
     ]
    }
   ],
   "source": [
    "x = y if y > z else z\n",
    "print(x)"
   ]
  },
  {
   "cell_type": "markdown",
   "metadata": {},
   "source": [
    "## Iteration\n",
    "\n",
    "Most computational tasks cannot be accomplished using branching programs\n",
    "\n",
    "**Example**: Write a program that asks the user how many time they want to print the letter X, and\n",
    "then prints a string with that number of X’s\n",
    "\n",
    "```python\n",
    "num_x = int(input('How many times should I print the letter X? '))\n",
    "to_print = ''\n",
    "if num_x == 1:\n",
    "    to_print = 'X'\n",
    "elif num_x == 2:\n",
    "    to_print = 'XX'\n",
    "elif num_x == 3:\n",
    "    to_print = 'XXX'\n",
    "#...\n",
    "print(to_print)\n",
    "```\n",
    "\n",
    "As you can imagine, it is impossible to write a conditional that enumerates ALL integers (there are an infinite number of them)"
   ]
  },
  {
   "cell_type": "markdown",
   "metadata": {},
   "source": [
    "For a program that needs to run the same thing many times, we use **iteration** (a.k.a. *looping*)\n",
    "<img src=\"images/looping.png\" width=400/>"
   ]
  },
  {
   "cell_type": "markdown",
   "metadata": {},
   "source": [
    "Python, as many other languages, provide two main looping statements: `while` and `for`\n",
    "\n",
    "### While loop\n",
    "\n",
    "```python\n",
    "while Boolean expression:\n",
    "    block of code\n",
    "```\n",
    "\n",
    "**Example**: Write a Python code that calculates the square of an integer using while loops"
   ]
  },
  {
   "cell_type": "code",
   "execution_count": 28,
   "metadata": {},
   "outputs": [
    {
     "name": "stdout",
     "output_type": "stream",
     "text": [
      "3*3 = 9\n"
     ]
    }
   ],
   "source": [
    "x = 3\n",
    "ans = 0\n",
    "num_iterations = 0\n",
    "while (num_iterations < x):\n",
    "    ans = ans + x\n",
    "    num_iterations = num_iterations + 1\n",
    "print(f'{x}*{x} = {ans}')"
   ]
  },
  {
   "cell_type": "markdown",
   "metadata": {},
   "source": [
    "(Use as Note) solve it by hand to demonstrate how it works"
   ]
  },
  {
   "cell_type": "markdown",
   "metadata": {},
   "source": [
    "**Finger exercise**: Replace the comment in the following code with a `while` loop.\n",
    "```python\n",
    "num_x = int(input('How many times should I print the letter X? '))\n",
    "to_print = ''\n",
    "#concatenate X to to_print num_x times\n",
    "print(to_print)\n",
    "```"
   ]
  },
  {
   "cell_type": "code",
   "execution_count": 29,
   "metadata": {},
   "outputs": [
    {
     "name": "stdout",
     "output_type": "stream",
     "text": [
      "132 is divisible by 11 and 12\n"
     ]
    }
   ],
   "source": [
    "#Find a positive integer that is divisible by both 11 and 12\n",
    "x = 1\n",
    "while True:\n",
    "    if x%11 == 0 and x%12 == 0:\n",
    "        break\n",
    "    x = x + 1\n",
    "print(x, 'is divisible by 11 and 12')"
   ]
  },
  {
   "cell_type": "markdown",
   "metadata": {},
   "source": [
    "**Finger exercise**: Write a program that takes as input 10 integers, and then prints the largest odd number that was entered. If no odd number was entered, it should print a message to that effect."
   ]
  },
  {
   "cell_type": "markdown",
   "metadata": {},
   "source": [
    "### For loop\n",
    "\n",
    "Structurally different than `while` loop\n",
    "\n",
    "```python\n",
    "for variable in sequence:\n",
    "    code block\n",
    "```"
   ]
  },
  {
   "cell_type": "code",
   "execution_count": 32,
   "metadata": {},
   "outputs": [
    {
     "name": "stdout",
     "output_type": "stream",
     "text": [
      "3*3 = 9\n"
     ]
    }
   ],
   "source": [
    "x = 3\n",
    "ans = 0\n",
    "\n",
    "for iter in range(x):\n",
    "    ans = ans + x\n",
    "print(f'{x}*{x} = {ans}')"
   ]
  },
  {
   "cell_type": "code",
   "execution_count": 33,
   "metadata": {},
   "outputs": [
    {
     "name": "stdout",
     "output_type": "stream",
     "text": [
      "91\n"
     ]
    }
   ],
   "source": [
    "# Consider sequence `(77, 11, 3)`. Use `for` loop to add all numbers\n",
    "\n",
    "total = 0\n",
    "for num in (77, 11, 3):\n",
    "    total = total + num\n",
    "print(total)"
   ]
  },
  {
   "cell_type": "markdown",
   "metadata": {},
   "source": [
    "However, the `sequence` argument is not efficient that way if it requires a large number of values\n",
    "\n",
    "Python provides the built-in function **range()**, which returns a series of integers\n",
    "\n",
    "<u>Format:</u>\n",
    "```\n",
    "range(start, end, step)\n",
    "```\n",
    "$\\Rightarrow$ \n",
    "```\n",
    "start, start + step, start + 2*step,...\n",
    "```\n",
    "\n",
    "If the total number of iterations is `i`, `start + i*step` will be strictly less than `end` for incremental sequence and strictly more than `end` for the opposite\n",
    "\n",
    "**Examples**: \n",
    "\n",
    "`(5, 40, 10)` $\\Rightarrow$ `5, 15, 25, 35`\n",
    "\n",
    "`(40, 5, -10)` $\\Rightarrow$ `40, 30, 20, 10`\n",
    "\n",
    "Default `step` value is 1, which can be omitted:\n",
    "`range(0,4,1)` $\\Rightarrow$ `range(0,4)` $\\Rightarrow$ `0,1,2,3`"
   ]
  },
  {
   "cell_type": "markdown",
   "metadata": {},
   "source": [
    "`range()` shares many similarities to the string slicing operation:\n",
    "\n",
    "`range(3)` $\\Rightarrow$ `range(0,3)`\n",
    "\n",
    "`range()` numbers produced in \"as needed\" basis, so it consumes little memory"
   ]
  },
  {
   "cell_type": "code",
   "execution_count": 31,
   "metadata": {},
   "outputs": [
    {
     "name": "stdout",
     "output_type": "stream",
     "text": [
      "0\n",
      "1\n",
      "2\n",
      "3\n"
     ]
    }
   ],
   "source": [
    "x = 4\n",
    "for i in range(4):\n",
    "    print(i)"
   ]
  },
  {
   "cell_type": "markdown",
   "metadata": {},
   "source": [
    "What if we want to exit the loop body before `num_iterations` end?\n",
    "\n",
    "**break**: a statement that terminates the loop, transfers control to the code following the loop. Useful for special `while` conditions, e.g. `while True` "
   ]
  },
  {
   "cell_type": "markdown",
   "metadata": {},
   "source": [
    "**Finger exercise**: Write a program that prints the sum of the prime numbers greater than 2 and less than 1000."
   ]
  },
  {
   "cell_type": "markdown",
   "metadata": {},
   "source": [
    "| For loop                                     \t| While loop                                                                           \t|\n",
    "|----------------------------------------------\t|--------------------------------------------------------------------------------------\t|\n",
    "| Known number of<br>iterations<br><br>         \t| Unbounded number of<br>iterations                                                    \t|\n",
    "| Can end early via<br>break                   \t| Can end early via break                                                              \t|\n",
    "| Uses a counter                               \t| Can use a counter but<br>must initialize before loop<br>and increment it inside loop \t|\n",
    "| Can rewrite a for loop<br>using a while loop \t| May not be able to<br>rewrite a while loop using<br>a for loop         "
   ]
  },
  {
   "cell_type": "code",
   "execution_count": null,
   "metadata": {},
   "outputs": [],
   "source": []
  }
 ],
 "metadata": {
  "kernelspec": {
   "display_name": "Python 3",
   "language": "python",
   "name": "python3"
  },
  "language_info": {
   "codemirror_mode": {
    "name": "ipython",
    "version": 3
   },
   "file_extension": ".py",
   "mimetype": "text/x-python",
   "name": "python",
   "nbconvert_exporter": "python",
   "pygments_lexer": "ipython3",
   "version": "3.7.6"
  }
 },
 "nbformat": 4,
 "nbformat_minor": 4
}

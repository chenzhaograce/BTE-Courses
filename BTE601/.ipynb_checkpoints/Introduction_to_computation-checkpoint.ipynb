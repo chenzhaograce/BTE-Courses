{
 "cells": [
  {
   "cell_type": "markdown",
   "metadata": {
    "slideshow": {
     "slide_type": "slide"
    }
   },
   "source": [
    "# Introduction to Computation\n",
    "\n"
   ]
  },
  {
   "cell_type": "markdown",
   "metadata": {
    "slideshow": {
     "slide_type": "slide"
    }
   },
   "source": [
    "## What do computers do?\n",
    "\n",
    "Computers (whether your laptop or *Summit* HPC system):\n",
    " - Perform (simple) calculations\n",
    " - Very efficient !(Billion calculations per second)\n",
    " - Large memory (100s of gigabytes of storage!)\n",
    "     * remember results\n",
    " - Types of calculations:\n",
    "    * part of the programming language\n",
    "    * defined by the programmer"
   ]
  },
  {
   "cell_type": "markdown",
   "metadata": {
    "slideshow": {
     "slide_type": "slide"
    }
   },
   "source": [
    "## So, what exactly is computational thinking?\n",
    "\n",
    "Knowledge can be categorized as either i) declarative, or ii) imperative\n",
    "\n",
    "**Declarative knowledge** is composed of statements of fact:\n",
    " - The square root of `x` is a number `y` such that `y*y = x`\n",
    " - It is possible to travel by train from Paris to Rome\n",
    " - They do not tell us anything as of how (e.g. how to find `y`?)"
   ]
  },
  {
   "cell_type": "markdown",
   "metadata": {
    "slideshow": {
     "slide_type": "slide"
    }
   },
   "source": [
    "**Imperative knowledge** is “how to” knowledge:\n",
    " - How to find the square root of `x`? Here is how:\n",
    "     1. Start with a guess `g`\n",
    "     2. If `g*g` is close enough to x $\\rightarrow$ stop! `g` is the answer.\n",
    "     3. Else, create a new guess by averaging `g` and `x/g` $\\rightarrow$ `(g + x/g)/2`\n",
    "     4. Repeat until `g*g` $\\approx$ `x`\n",
    "\n",
    "The method follows a simple set of rules $\\rightarrow$ *algorithm*\n",
    "\n",
    "**Formal definition**: An algorithm is a finite list of instructions describing a set of computations that when executed on a set of inputs will proceed through a sequence of well-defined states and eventually produce an output."
   ]
  },
  {
   "cell_type": "markdown",
   "metadata": {
    "slideshow": {
     "slide_type": "slide"
    }
   },
   "source": [
    "## How do we transfer algorithmic logic to a machine?\n",
    "\n",
    "This was the most important question the designers of the first computers had to face (which makes sense, right?)\n",
    "\n",
    " * Option #1: Design a machine that intends <u>only</u> to compute sSare roots\n",
    "     - As a matter of fact, the first computers were indeed **fixed-program computers**\n",
    "     - Designed to solve a specific mathematical problem\n",
    " * Option #2: **Stored-program computers** (basically what we use today in most cases)\n",
    "     - Designed to store and manipulate a sequence of instructions\n",
    "     - Built with components that execute any instruction following that sequence.\n",
    "     - Essential component: **interpreter**\n",
    "         1. Executes any legal set of instructions\n",
    "         2. Used to compute anything that can be described using those instructions\n",
    "         3. This set of instruction is collectively known as *program*"
   ]
  },
  {
   "cell_type": "markdown",
   "metadata": {
    "slideshow": {
     "slide_type": "slide"
    }
   },
   "source": [
    "Both the program and the data it manipulates reside in memory\n",
    "- a **program counter** points to a particular location in memory\n",
    "- Computation starts by executing the instruction at that point, or based on the instruction there jump to another point in the instruction sequence\n",
    "- This sequence of steps/jumps is called **flow of control**\n",
    "- Flow of control is very important feature since it allows the design of complex programs (algorithms)\n",
    "- Devices such as *flowcharts* are used to better demonstrate it"
   ]
  },
  {
   "cell_type": "markdown",
   "metadata": {
    "slideshow": {
     "slide_type": "slide"
    }
   },
   "source": [
    "<img src=\"images/flowchart.png\" width=500/>"
   ]
  },
  {
   "cell_type": "markdown",
   "metadata": {
    "slideshow": {
     "slide_type": "slide"
    }
   },
   "source": [
    "*It's quite fascinating in programming that, given a small set of features, we can produce countless programs*\n",
    "\n",
    "What we need to create these sets of instructions? $\\rightarrow$ a **programming language!**"
   ]
  },
  {
   "cell_type": "markdown",
   "metadata": {
    "slideshow": {
     "slide_type": "slide"
    }
   },
   "source": [
    "<div style=\"float:right\"><img src=\"images/Alan-Turing.jpeg\" width=200/><figcaption>Alan Turing</figcaption></div>\n",
    "\n",
    "In 1936 Alan Turing described a hypothetical computing device: **Universal Turing Machine**.\n",
    " - Unlimited memory in the form of a “tape” on which one could write zeroes and ones\n",
    " - Few simple primitive instructions for moving, reading, and writing to the tape\n",
    "\n",
    "**Church-Turing thesis**: *if a function is computable, a Turing Machine can be programmed to compute it.*\n",
    "\n",
    "The Church-Turing thesis leads directly to the notion of *Turing completeness*. \n",
    " - A programming language is Turing complete if it can be used to simulate a universal Turing Machine\n",
    " \n",
    "All modern programming languages, like Python, are Turing complete"
   ]
  },
  {
   "cell_type": "markdown",
   "metadata": {
    "slideshow": {
     "slide_type": "notes"
    }
   },
   "source": [
    "(Use as Notes slide) That means that any program you write i.e. in Python, you can write it using another language, i.e. C++"
   ]
  },
  {
   "cell_type": "markdown",
   "metadata": {
    "slideshow": {
     "slide_type": "slide"
    }
   },
   "source": [
    "**The best thing about programming is also its worst: a computer will do exactly what you tell it to do**\n",
    "\n",
    " - If what you wrote works, thumbs up! You did a splendid job! 👍\n",
    " - If it doesn't work, then you can only blame yourselves 😩\n",
    "\n",
    "**There are hundreds of programming languages out there...**\n",
    "\n",
    " - Not one-fits-them-all exists however\n",
    "     * Prolog works only for logical programming\n",
    "     * MIPS Assembly is good for low-level register programming\n",
    "     * MATLAB works best in matrix manipulation\n",
    "     * **Python** is a very good general-purpose language"
   ]
  },
  {
   "cell_type": "markdown",
   "metadata": {
    "slideshow": {
     "slide_type": "slide"
    }
   },
   "source": [
    "Each programming language is characterized by a set of:\n",
    " - primitive constructs \n",
    " - syntax\n",
    " - static semantics\n",
    " - a semantics\n",
    " \n",
    "Primitive constructs:\n",
    " - English $\\rightarrow$ words\n",
    " - Programming language $\\rightarrow$ numbers (`3.2`), strings (`abc`), simple operators (`+, -, /`)\n"
   ]
  },
  {
   "cell_type": "markdown",
   "metadata": {
    "slideshow": {
     "slide_type": "slide"
    }
   },
   "source": [
    "Syntax:\n",
    "- English: \n",
    "    * \"cat dog boy\" $\\longrightarrow$ not syntactically valid\n",
    "    * \"cat hugs boy\" $\\longrightarrow$ syntactically valid\n",
    "- Programming language: \n",
    "    * `\"hi\"5` $\\longrightarrow$ not syntactically valid\n",
    "    * `3.2*5` $\\longrightarrow$ syntactically valid"
   ]
  },
  {
   "cell_type": "markdown",
   "metadata": {
    "slideshow": {
     "slide_type": "slide"
    }
   },
   "source": [
    "Static semantics define if a sentence is meaningful:\n",
    "- English: \"I are hungry\" $\\longrightarrow$ syntactically valid but static semantic error\n",
    "- Programming language: \n",
    "    * `3.2*5` $\\longrightarrow$ syntactically valid\n",
    "    * `3+\"hi\"` $\\longrightarrow$ static semantic error"
   ]
  },
  {
   "cell_type": "markdown",
   "metadata": {
    "slideshow": {
     "slide_type": "slide"
    }
   },
   "source": [
    "Semantics defines sentence meaning if no static semantic errors exist:\n",
    "- English: can have many meanings \"Flying planes can be dangerous\"\n",
    "- Programming language: has single meaning since it is designed such that each legal program has a single meaning"
   ]
  },
  {
   "cell_type": "markdown",
   "metadata": {
    "slideshow": {
     "slide_type": "slide"
    }
   },
   "source": [
    "Syntax errors are the most common kind of error (especially for novices, but even for experienced programmers)\n",
    "- Least dangerous kind of error. \n",
    "- Well-established programming languages detect all syntactic errors, do not allow users to execute a program otherwise. \n",
    "- Usually the language system adequately notifies the programmer of the location of the error \n",
    "- They then are able to fix it without too much thought.\n",
    "\n",
    "Static semantic errors are usually more complex to identify and fix.\n",
    "- Some programming languages perform a lot of static semantic checking before allowing a program to be executed (e.g. Java). \n",
    "- Others perform relatively less static semantic checking before a program is executed (e.g. C). \n",
    "- Python does do a considerable amount of semantic checking while running a program."
   ]
  },
  {
   "cell_type": "markdown",
   "metadata": {
    "slideshow": {
     "slide_type": "slide"
    }
   },
   "source": [
    "**No syntactic errors + no static semantic errors =  meaning (i.e. semantics)**\n",
    "\n",
    "That's great right? It means that we are done and we can go indulge ourselves drinking a Starbucks coffee by the lake..."
   ]
  },
  {
   "cell_type": "markdown",
   "metadata": {
    "slideshow": {
     "slide_type": "slide"
    }
   },
   "source": [
    "Alas, no!\n",
    "\n",
    "Semantics outcome might be something completely different than intended:\n",
    "- The program might crash, giving a clear indication that a crash happened \n",
    "<img src=\"images/program-crash.png\" width=400/>\n",
    "- It might not stop running at all\n",
    "    * You probably won't notice, until your machine crash for lack of memory\n",
    "- It might run to completion and realize that the result is completely bonkers!\n",
    "    * Imagine the implications in a self-piloted airplane"
   ]
  },
  {
   "cell_type": "markdown",
   "metadata": {
    "slideshow": {
     "slide_type": "slide"
    }
   },
   "source": [
    "# Basic Python elements\n",
    "\n",
    "A Python program (or *script*) is a sequence of definitions and commands. \n",
    "\n",
    "The Python interpreter evaluates the definitions and executes the commands.\n",
    "\n",
    "A command instructs the interpreter to do something.\n",
    "- E.g., the command `print('Canes rule!')` instructs the interpreter to call the function `print`, which outputs\n",
    "the string `Canes rule!`"
   ]
  },
  {
   "cell_type": "code",
   "execution_count": 1,
   "metadata": {
    "slideshow": {
     "slide_type": "slide"
    }
   },
   "outputs": [
    {
     "name": "stdout",
     "output_type": "stream",
     "text": [
      "Canes rule!\n",
      "In Miami!\n",
      "Canes rule, in Miami!\n"
     ]
    }
   ],
   "source": [
    "print('Canes rule!')\n",
    "print('In Miami!')\n",
    "print('Canes rule,', 'in Miami!')"
   ]
  },
  {
   "cell_type": "markdown",
   "metadata": {
    "slideshow": {
     "slide_type": "notes"
    }
   },
   "source": [
    "(Use as Notes slide) Notice that two values were passed to print in the third statement.\n",
    "The print function takes a variable number of arguments separated\n",
    "by commas and prints them, separated by a space character, in the\n",
    "order in which they appear."
   ]
  },
  {
   "cell_type": "markdown",
   "metadata": {
    "slideshow": {
     "slide_type": "notes"
    }
   },
   "source": [
    "## Objects, Expressions, and Numerical Types\n",
    "\n",
    "**Objects**: Core Python elements that a program can manipulate. They are distinguished as:\n",
    "- Scalars which are indivisible\n",
    "- Non-scalars which have internal structure\n",
    "\n",
    "Objects are denoted by **literals**\n",
    "- `2` is a literal representing a number\n",
    "- `'abc'` is a literal representing a string"
   ]
  },
  {
   "cell_type": "markdown",
   "metadata": {
    "slideshow": {
     "slide_type": "slide"
    }
   },
   "source": [
    "<img src=\"images/python-scalars.png\" width=800/>\n",
    "\n",
    "- `int`: represents integers. \n",
    "- `float`: represents real numbers. Written with a decimal point (e.g. `3.2`), or scientific notation (e.g. `1.6E3` = 1600.0)\n",
    "- `bool`: represents Boolean objects. Takes two possible values, `True` or `False`\n",
    "- `None`: singular value (more on that later)"
   ]
  },
  {
   "cell_type": "markdown",
   "metadata": {
    "slideshow": {
     "slide_type": "slide"
    }
   },
   "source": [
    "Objects + operators == *expressions*\n",
    "\n",
    "Expressions are evaluated to an object of some type\n",
    "\n",
    "E.g., `3 + 2` denotes the value `5` of type `int`, whereas `3.0 + 2.0` denotes the value `5.0` of type `float`\n",
    "\n",
    "Evaluation operators:\n",
    "- `==`: Tests if two expressions evaluate to the same value (i.e. are equal)\n",
    "- `!=`: Tests if two expressions evaluate to different values (i.e. are NOT equal)\n",
    "- `=`: This is a special evaluator that assigns the value on the right hand side to the object on the left\n",
    "\n",
    "To make sure what type of object you have, use the Python built-in function `type()`\n",
    "\n",
    "Let's run some tests!"
   ]
  },
  {
   "cell_type": "code",
   "execution_count": 2,
   "metadata": {
    "slideshow": {
     "slide_type": "subslide"
    }
   },
   "outputs": [
    {
     "data": {
      "text/plain": [
       "3"
      ]
     },
     "execution_count": 2,
     "metadata": {},
     "output_type": "execute_result"
    }
   ],
   "source": [
    "3"
   ]
  },
  {
   "cell_type": "code",
   "execution_count": 3,
   "metadata": {
    "slideshow": {
     "slide_type": "subslide"
    }
   },
   "outputs": [
    {
     "data": {
      "text/plain": [
       "5"
      ]
     },
     "execution_count": 3,
     "metadata": {},
     "output_type": "execute_result"
    }
   ],
   "source": [
    "3+2"
   ]
  },
  {
   "cell_type": "code",
   "execution_count": 4,
   "metadata": {
    "slideshow": {
     "slide_type": "subslide"
    }
   },
   "outputs": [
    {
     "data": {
      "text/plain": [
       "5.0"
      ]
     },
     "execution_count": 4,
     "metadata": {},
     "output_type": "execute_result"
    }
   ],
   "source": [
    "3.0+2.0"
   ]
  },
  {
   "cell_type": "code",
   "execution_count": 5,
   "metadata": {
    "slideshow": {
     "slide_type": "subslide"
    }
   },
   "outputs": [
    {
     "data": {
      "text/plain": [
       "True"
      ]
     },
     "execution_count": 5,
     "metadata": {},
     "output_type": "execute_result"
    }
   ],
   "source": [
    "3!=2"
   ]
  },
  {
   "cell_type": "code",
   "execution_count": 6,
   "metadata": {
    "slideshow": {
     "slide_type": "subslide"
    }
   },
   "outputs": [
    {
     "data": {
      "text/plain": [
       "int"
      ]
     },
     "execution_count": 6,
     "metadata": {},
     "output_type": "execute_result"
    }
   ],
   "source": [
    "type(3)"
   ]
  },
  {
   "cell_type": "code",
   "execution_count": 7,
   "metadata": {
    "slideshow": {
     "slide_type": "subslide"
    }
   },
   "outputs": [
    {
     "data": {
      "text/plain": [
       "float"
      ]
     },
     "execution_count": 7,
     "metadata": {},
     "output_type": "execute_result"
    }
   ],
   "source": [
    "type(3.0)"
   ]
  },
  {
   "cell_type": "markdown",
   "metadata": {
    "slideshow": {
     "slide_type": "slide"
    }
   },
   "source": [
    "The arithmetic operators have the usual mathematical precedence. \n",
    "\n",
    "Multiplication operator `*` binds more tightly than addition `+`:\n",
    "- Expression `x+y*2` is evaluated by first multiplying `y` by `2` and then adding the result to `x`\n",
    "- The order of evaluation can be changed by using parentheses\n",
    "    * `(x+y)*2` first adds `x` and `y`, and then multiplies the result by `2`"
   ]
  },
  {
   "cell_type": "markdown",
   "metadata": {
    "slideshow": {
     "slide_type": "slide"
    }
   },
   "source": [
    "<img src=\"images/operators.png\" width=600/>"
   ]
  },
  {
   "cell_type": "markdown",
   "metadata": {
    "slideshow": {
     "slide_type": "slide"
    }
   },
   "source": [
    "Boolean operators are: `and`, `or`, `not`\n",
    "\n",
    "- `a and b` is `True` if BOTH `a` and `b` are `True`, and `False` otherwise.\n",
    "- `a or b` is `True` if AT LEAST ONE of `a` or `b` is `True`, and `False` otherwise.\n",
    "- `not a` is `True` if `a` is `False`, and `False` if `a` is `True`."
   ]
  },
  {
   "cell_type": "markdown",
   "metadata": {
    "slideshow": {
     "slide_type": "slide"
    }
   },
   "source": [
    "## Variables and assignment\n",
    "\n",
    "**Variables** help associate names with objects:\n",
    "\n",
    "```python\n",
    "pi = 3\n",
    "radius = 11\n",
    "area = pi * (radius**2)\n",
    "radius = 14\n",
    "```\n",
    "\n",
    "Remember that *a variable is just a name*\n",
    "\n",
    "**Tip**: always choose names that are easy to remember and associate with their function. E.g., consider the following code fragments:\n",
    "```python\n",
    "a = 3.14159        pi = 3.14159\n",
    "b = 11.2           diameter = 11.2\n",
    "c = a*(b**2)       area = pi*(diameter**2)\n",
    "```\n",
    "\n",
    "- They do the same thing\n",
    "- The fragment on the left seems right at first\n",
    "- But looking at the one on the right, we see that mathematically is wrong (`diameter` should be `radius`)"
   ]
  },
  {
   "cell_type": "markdown",
   "metadata": {
    "slideshow": {
     "slide_type": "notes"
    }
   },
   "source": [
    "(Use it as Notes slide) The code first binds the names pi and radius to different objects of\n",
    "type int. It then binds the name area to a third object of type int. \n",
    "when radius=14, area value does not change\n",
    "Choose variable names wisely, otherwise there might be errors that are not obvious in the first place"
   ]
  },
  {
   "cell_type": "markdown",
   "metadata": {
    "slideshow": {
     "slide_type": "slide"
    }
   },
   "source": [
    "Variable names in Python can contain:\n",
    "- Uppercase and lowercase letters\n",
    "- Digits (though they cannot start with a digit)\n",
    "- The special character `_`\n",
    "\n",
    "Variable names are case-sensitive (e.g. `radius` is different from `Radius`)\n",
    "\n",
    "There are also some **reserved words**, called **keywords**, that cannot be used for variable names. Those include:\n",
    "\n",
    "```\n",
    "and    break    elif    for    in       not    True\n",
    "as     class    else    from   is       or     try\n",
    "assert continue except  global lambda   pass   while\n",
    "async  def      False   if     nonlocal raise  with\n",
    "await  del      finally import None     return yield\n",
    "```"
   ]
  },
  {
   "cell_type": "markdown",
   "metadata": {
    "slideshow": {
     "slide_type": "slide"
    }
   },
   "source": [
    "**Tip**: Use comments to enhance code readability\n",
    "\n",
    "```python\n",
    "side = 1 # length of sides of a unit square\n",
    "radius = 1 # radius of a unit circle\n",
    "\n",
    "# subtract area of unit circle from area of unit square\n",
    "area_circle = pi*radius**2\n",
    "area_square = side*side\n",
    "difference = area_square - area_circle\n",
    "```\n",
    "\n",
    "Finally, Python allows multiple assignments:\n",
    "\n",
    "```python\n",
    "x, y = 2, 3\n",
    "```\n",
    "\n",
    "This statement assigns `2` to `x` and `3` to `y`\n",
    "\n",
    "**Q**: What will the `print` function yield?\n",
    "```python\n",
    "x, y = y, x\n",
    "print('x =', x)\n",
    "print('y =', y)\n",
    "```"
   ]
  },
  {
   "cell_type": "code",
   "execution_count": 9,
   "metadata": {
    "slideshow": {
     "slide_type": "slide"
    }
   },
   "outputs": [
    {
     "name": "stdout",
     "output_type": "stream",
     "text": [
      "x = 3\n",
      "y = 2\n"
     ]
    }
   ],
   "source": [
    "x, y = 2, 3\n",
    "x, y = y, x\n",
    "print('x =', x)\n",
    "print('y =', y)"
   ]
  },
  {
   "cell_type": "code",
   "execution_count": null,
   "metadata": {},
   "outputs": [],
   "source": []
  }
 ],
 "metadata": {
  "celltoolbar": "Slideshow",
  "kernelspec": {
   "display_name": "Python 3",
   "language": "python",
   "name": "python3"
  },
  "language_info": {
   "codemirror_mode": {
    "name": "ipython",
    "version": 3
   },
   "file_extension": ".py",
   "mimetype": "text/x-python",
   "name": "python",
   "nbconvert_exporter": "python",
   "pygments_lexer": "ipython3",
   "version": "3.7.6"
  }
 },
 "nbformat": 4,
 "nbformat_minor": 4
}

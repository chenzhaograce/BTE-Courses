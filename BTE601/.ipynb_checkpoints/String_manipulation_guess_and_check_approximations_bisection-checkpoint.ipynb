{
 "cells": [
  {
   "cell_type": "markdown",
   "metadata": {},
   "source": [
    "# String manipulation, exhaustive enumeration, approximation, bisection"
   ]
  },
  {
   "cell_type": "markdown",
   "metadata": {},
   "source": [
    "## Strings and Input\n",
    "\n",
    "- Remember from last class that objects of type `str` represent characters\n",
    "- Character objects can be written either using single (`'abc'`), or double quotes (`\"abc\"`)\n",
    "\n",
    "Quick test: `'123'` is character or number?\n",
    "\n",
    "**Overloaded operators**\n",
    "\n",
    "They are common operators that have different meaning depending on the objects they are applied upon\n",
    "- `+` means addition when objects are both numbers, or concatenation when objects are strings\n",
    "    * Example: `3 + 4 = 7`, `'a' + 'a' = 'aa'`\n",
    "- `*` mean multiplication for number objects, repetition when applied to an `int` and a `str`\n",
    "    * Expression `n*s`, with `n` an `int` and `s` a `str` $\\rightarrow$ `str` with `n` repeats of `s`.\n",
    "    * Example: expression `3*'a'` returns a string of characters `a` repeated three times\n",
    "    * `'a'*'a'` will return a type error\n",
    "\n",
    "**Type checking** is one of the most important features in Python\n",
    "- They capture errors that might not be obvious while writing code\n",
    "- Example: what '4' < 3 will return?"
   ]
  },
  {
   "cell_type": "code",
   "execution_count": null,
   "metadata": {},
   "outputs": [],
   "source": [
    "print('a')\n",
    "print(3*4)\n",
    "print(3*'a')\n",
    "print(3+4)\n",
    "print('a'+'a')\n",
    "\n",
    "print('a'*'a')"
   ]
  },
  {
   "cell_type": "markdown",
   "metadata": {},
   "source": [
    "<img src=\"images/string-operations.png\" width=800/>"
   ]
  },
  {
   "cell_type": "markdown",
   "metadata": {},
   "source": [
    "1. *Length*: `len('abc')` returns 3\n",
    "2. *Indexing*: `'abc'[0]` returns `'a'`, `'abc'[3]` returns an index error\n",
    "    * Use negative values to index beginning from the end of the string\n",
    "    * Example: `'abc'[-1]` returns c\n",
    "3. *Slicing*: For a string `s`, `s[start:end]` returns a substring starting from index `start` and ending on `end-1`\n",
    "    * Example: `'abc'[1:3]` returns `bc`\n",
    "    * Q: What does `'abc'[0:len('abc')]` returns?"
   ]
  },
  {
   "cell_type": "markdown",
   "metadata": {},
   "source": [
    "- `'abc'[:2]` is equivalent to `'abc'[0:2]`, `'abc'[1:]` is equivalent to `'abc'[1:len('abc')]`\n",
    "- `'abc'[:]` is equivalent to `'abc'[0:len('abc')]`\n",
    "- Use a third step argument to select indices every step values:\n",
    "    * `'123456789'[0:8:2]` returns `1357`"
   ]
  },
  {
   "cell_type": "markdown",
   "metadata": {},
   "source": [
    "### Type conversions\n",
    "\n",
    "- Also known as **type casts**\n",
    "- Used often in Python\n",
    "- Use type name to convert values to that type. E.g., `int('3')` returns `3`\n",
    "\n",
    "Be careful with type casts. A `float` converted to `int` will truncate (not round up/down) decimals. E.g., `int(3.9)` returns `3`\n",
    "\n",
    "Let's see some examples of type conversions used in `print`:"
   ]
  },
  {
   "cell_type": "markdown",
   "metadata": {},
   "source": [
    "Decimal `.0` appears because `fraction` is a float, and multiplying an `int` with a `float` returns `float`\n",
    "\n",
    "After Python 3.6, string expressions in `print` function can also be built using **formatted string literal** (f-string)\n",
    " - f-strings contain both sequences of characters and expressions bracketed by {}\n",
    " - Evaluation at runtime, automatic conversion to strings\n",
    " \n",
    "f-strings are useful to control the appearance of the output using *modifiers*\n",
    "- Use colon `:` to separate the expression from the control modifier\n",
    "    * `f'{3.14159:.2f}'` evaluates the expression `3.14159` to `3.14` (`.2` denotes two decimals)"
   ]
  },
  {
   "cell_type": "code",
   "execution_count": 1,
   "metadata": {},
   "outputs": [
    {
     "name": "stdout",
     "output_type": "stream",
     "text": [
      "15000000.0 is 50.0 % of 30000000\n",
      "15000000.0 is 50.0% of 30000000\n",
      "15000000 is 50.0% of 30000000\n",
      "15000000 is 50.0% of 30000000\n",
      "15,000,000 is 50.0% of 30,000,000\n"
     ]
    }
   ],
   "source": [
    "num = 30000000\n",
    "fraction = 1/2\n",
    "print(num*fraction, 'is', fraction*100, '%', 'of', num)\n",
    "print(num*fraction, 'is', str(fraction*100) + '%', 'of', num)\n",
    "\n",
    "print(int(num*fraction), 'is', str(fraction*100) + '%', 'of', num)\n",
    "\n",
    "# print with f-strings\n",
    "print(f'{int(num*fraction)} is {fraction*100}% of {num}')\n",
    "\n",
    "# print with f-strings and control modifiers. Comma modifier instructs Python to use commas on thousands\n",
    "print(f'{num*fraction:,.0f} is {fraction*100}% of {num:,}')"
   ]
  },
  {
   "cell_type": "markdown",
   "metadata": {},
   "source": [
    "### Input\n",
    "\n",
    "- Function `input` used to get inputs directly from the user\n",
    "- Takes a string argument, displays it as a prompt\n",
    "- The function then waits for the user to type something. After that, the user presses `Enter` to let the code proceed further\n",
    "- What the user types, is interpreted as a string, even if you type an integer"
   ]
  },
  {
   "cell_type": "code",
   "execution_count": null,
   "metadata": {},
   "outputs": [],
   "source": [
    "n = input('Enter an int: ')\n",
    "print(type(n))"
   ]
  },
  {
   "cell_type": "code",
   "execution_count": null,
   "metadata": {},
   "outputs": [],
   "source": [
    "name = input('Enter your name: ')"
   ]
  },
  {
   "cell_type": "markdown",
   "metadata": {},
   "source": [
    "Variable `name` takes the value typed by the user (in this case it will be `John Smith`)\n",
    "\n",
    "You can check if the assignment done correctly using `print`"
   ]
  },
  {
   "cell_type": "code",
   "execution_count": null,
   "metadata": {},
   "outputs": [],
   "source": [
    "print('Your name is: ', name)"
   ]
  },
  {
   "cell_type": "markdown",
   "metadata": {},
   "source": [
    "**Finger exercise**: Write code that asks the user to enter their birthday in the form `mm/dd/yyyy`, and then prints a string of the form ‘You were born in the year yyyy.’"
   ]
  },
  {
   "cell_type": "markdown",
   "metadata": {},
   "source": [
    "#### Strings and Loops\n",
    "\n",
    "Now that you know how iterations work and how strings can be manipulated, let's see an example where we want to iterate over a string's characters\n",
    "\n",
    "The following code fragments do the same thing. However the second fragment is what Python developers say, more \"Pythonic\"\n",
    "\n",
    "```python\n",
    "s = \"abcdefgh\"\n",
    "for index in range(len(s)):\n",
    "    if s[index] == 'i' or s[index] == 'u':\n",
    "        print(\"There is an i or u\")\n",
    "\n",
    "for char in s:\n",
    "    if char == 'i' or char == 'u':\n",
    "        print(\"There is an i or u\")\n",
    "```"
   ]
  },
  {
   "cell_type": "markdown",
   "metadata": {},
   "source": [
    "**Finger exercise**: Write a Python script that first compares the length of two strings. If they are equal, print common letters between them. \n",
    "\n",
    "String 1: `UM rocks!`, String 2: `i rock UM`"
   ]
  },
  {
   "cell_type": "code",
   "execution_count": 2,
   "metadata": {},
   "outputs": [
    {
     "name": "stdout",
     "output_type": "stream",
     "text": [
      "Letter U is common in both strings\n",
      "Letter M is common in both strings\n",
      "Letter   is common in both strings\n",
      "Letter   is common in both strings\n",
      "Letter r is common in both strings\n",
      "Letter o is common in both strings\n",
      "Letter c is common in both strings\n",
      "Letter k is common in both strings\n"
     ]
    }
   ],
   "source": [
    "# Use as Notes\n",
    "\n",
    "s1 = \"UM rocks!\"\n",
    "s2 = \"i rock UM\"\n",
    "\n",
    "if len(s1) == len(s2):\n",
    "    for char1 in s1:\n",
    "        for char2 in s2:\n",
    "            if char1 == char2:\n",
    "                print('Letter', char1, 'is common in both strings')"
   ]
  },
  {
   "cell_type": "markdown",
   "metadata": {},
   "source": [
    "## Exhaustive enumeration\n",
    "\n",
    "Algorithmic technique that is used to enumerate all possibilities until we get to the right answer or exhaust\n",
    "the space of possibilities.\n",
    "\n",
    "Easy to implement and understand\n",
    "\n",
    "In most cases runs fast enough for all practical purposes\n",
    "\n",
    "Exhaustive enumeration is also known as guess-and-check\n",
    "\n",
    "During guess-and-check, given a problem:\n",
    "- you are able to guess a value for solution\n",
    "- you are able to check if the solution is correct\n",
    "- keep guessing until find solution or guessed all values\n",
    "\n",
    "Let's see how that works in code that finds the cube root of a perfect cube"
   ]
  },
  {
   "cell_type": "code",
   "execution_count": 8,
   "metadata": {},
   "outputs": [
    {
     "name": "stdout",
     "output_type": "stream",
     "text": [
      "Cube root of 8 is 2\n"
     ]
    }
   ],
   "source": [
    "cube = 8\n",
    "for guess in range(cube+1):\n",
    "    if guess**3 == cube:\n",
    "        print(\"Cube root of\", cube, \"is\", guess)"
   ]
  },
  {
   "cell_type": "code",
   "execution_count": 11,
   "metadata": {},
   "outputs": [
    {
     "name": "stdout",
     "output_type": "stream",
     "text": [
      "Cube root of 7406961012236344616 is 1949306\n"
     ]
    }
   ],
   "source": [
    "cube = 7406961012236344616\n",
    "for guess in range(abs(cube)+1):\n",
    "    if guess**3 >= abs(cube):\n",
    "        break\n",
    "if guess**3 != abs(cube):\n",
    "    print(cube, 'is not a perfect cube')\n",
    "else:\n",
    "    if cube < 0:\n",
    "        guess = -guess\n",
    "    print('Cube root of '+str(cube)+' is '+str(guess))"
   ]
  },
  {
   "cell_type": "markdown",
   "metadata": {},
   "source": [
    "This probably does not seem very important information, don't you think? Besides, why use exhaustive enumeration? What's the purpose of it?\n",
    "\n",
    "**Answer**: \n",
    "- Practically may not be that important. However, it is a good way to understand how looping works\n",
    "- In both previous examples, loops shouldered most of the computational burden\n",
    "- This way you can observe that CPU runtimes in modern computers are very low, even for computation-intensive applications"
   ]
  },
  {
   "cell_type": "markdown",
   "metadata": {},
   "source": [
    "**Finger exercise**: Write a program that asks the user to enter an integer and prints two integers, `root` and `pwr`, such that `0 < pwr < 6` and `root**pwr` is equal to the integer entered by the user. If no such pair of integers exists, it should print a message to that effect."
   ]
  },
  {
   "cell_type": "code",
   "execution_count": 13,
   "metadata": {},
   "outputs": [
    {
     "name": "stdout",
     "output_type": "stream",
     "text": [
      "Enter an integer: 1\n",
      "2 0\n",
      "No root, pwr pair exists\n",
      "No root, pwr pair exists\n",
      "No root, pwr pair exists\n",
      "No root, pwr pair exists\n",
      "No root, pwr pair exists\n"
     ]
    }
   ],
   "source": [
    "# Use for Notes\n",
    "\n",
    "num = int(input('Enter an integer: '))\n",
    "\n",
    "root = 2\n",
    "for pwr in range(6):\n",
    "    if root**pwr == num:\n",
    "        print(root, pwr)\n",
    "    else:\n",
    "        print('No root, pwr pair exists')"
   ]
  },
  {
   "cell_type": "markdown",
   "metadata": {},
   "source": [
    "Let's look at another example of exhaustive enumeration: test whether an integer is a prime number and returning the smallest divisor if it is not. \n",
    "\n",
    "**Approach**: An integer `x > 3` is prime if no remainder of the divisions `x / i, i=2,...,x-1` is 0, otherwise x is\n",
    "not a prime."
   ]
  },
  {
   "cell_type": "code",
   "execution_count": 20,
   "metadata": {},
   "outputs": [
    {
     "name": "stdout",
     "output_type": "stream",
     "text": [
      "Enter an integer greater than 2: 3\n",
      "3 is a prime number\n"
     ]
    }
   ],
   "source": [
    "x = int(input(\"Enter an integer greater than 2: \"))\n",
    "smallest_divisor = None\n",
    "for guess in range(2, x):\n",
    "    if x%guess == 0:\n",
    "        smallest_divisor = guess\n",
    "        break\n",
    "if smallest_divisor != None:\n",
    "    print(\"smallest divisor of \", x, \" is: \", smallest_divisor)\n",
    "else:\n",
    "    print(x,\"is a prime number\")"
   ]
  },
  {
   "cell_type": "markdown",
   "metadata": {},
   "source": [
    "Exhaustive enumeration occurs within the `for` loop, which exits prematurely (`break`) if a smallest divisor is found, otherwise all possible divisors have been tested"
   ]
  },
  {
   "cell_type": "markdown",
   "metadata": {},
   "source": [
    "## Approximate solutions and bisection\n",
    "\n",
    "*Example*: We want to write a program that calculates the cube root of a nonnegative number\n",
    "\n",
    "The solution is not straightforward. E.g., calculating the cube root of 27 is easy, but what about the square root of 2?\n",
    "\n",
    "Cube root of 2 is not a rational number $\\rightarrow$ cannot be precisely represented with a finite number of digits\n",
    "\n",
    "**Solution**: write a program that finds an **approximation** to the cube root, that is a close enough value\n",
    "\n",
    "Approximate solutions usually require a notion of a small value (*epsilon*) that denotes the \"distance\" between the current answer and the actual answer\n",
    "\n",
    "Let's see an example of a code that calculates the square root:\n",
    "```python\n",
    "cube = 27\n",
    "epsilon = 0.01\n",
    "guess = 0.0\n",
    "increment = 0.0001\n",
    "num_guesses = 0\n",
    "while abs(guess**3 - cube) >= epsilon:\n",
    "    guess += increment\n",
    "    num_guesses += 1\n",
    "print('num_guesses =', num_guesses)\n",
    "if abs(guess**3 - cube) >= epsilon:\n",
    "    print('Failed on cube root of', cube)\n",
    "else:\n",
    "    print(guess, 'is close to the cube root of', cube)\n",
    "```\n",
    "\n",
    "Special operators:\n",
    "- `ans += step` $\\Rightarrow$ `ans = ans + step`\n",
    "- `ans -= step` $\\Rightarrow$ `ans = ans - step`\n",
    "- `ans *= step` $\\Rightarrow$ `ans = ans * step` "
   ]
  },
  {
   "cell_type": "code",
   "execution_count": 23,
   "metadata": {},
   "outputs": [
    {
     "name": "stdout",
     "output_type": "stream",
     "text": [
      "num_guesses = 29997\n",
      "2.999700000001906 is close to the cube root of 27\n"
     ]
    }
   ],
   "source": [
    "cube = 27\n",
    "epsilon = 0.01\n",
    "guess = 0.0\n",
    "increment = 0.0001\n",
    "num_guesses = 0\n",
    "while abs(guess**3 - cube) >= epsilon:\n",
    "    guess += increment\n",
    "    num_guesses += 1\n",
    "print('num_guesses =', num_guesses)\n",
    "if abs(guess**3 - cube) >= epsilon:\n",
    "    print('Failed on cube root of', cube)\n",
    "else:\n",
    "    print(guess, 'is close to the cube root of', cube)"
   ]
  },
  {
   "cell_type": "markdown",
   "metadata": {},
   "source": [
    "As you probably guessed, the above code fragment uses exhaustive enumeration\n",
    "\n",
    "What about the result then? It's not equal to 3, as we might have expected, right?\n",
    "\n",
    "That's not a bad thing, the code did what was intended to do\n",
    "\n",
    "The previous code example runs quite fast, but that will not be the case always\n",
    "\n",
    "In this case, exhaustive enumeration will probably take a long time to run\n",
    "\n",
    "So, how we solve this? **Bisection**\n",
    "\n",
    "For the cube root example, let's assume that a good approximation is somewhere between 0 and a `max` value\n",
    "\n",
    "We also know that numbers are totally ordered:\n",
    "- for any two numbers `n1` and `n2`, it is either `n1 < n2` or `n1 > n2`"
   ]
  },
  {
   "cell_type": "markdown",
   "metadata": {},
   "source": [
    "Bisection search:\n",
    "- half interval each iteration\n",
    "- new guess is halfway in between\n",
    "\n",
    "Let's see an illustrative example:\n",
    "<img src=\"images/bisection-example.png\" width=600/>"
   ]
  },
  {
   "cell_type": "code",
   "execution_count": 33,
   "metadata": {},
   "outputs": [
    {
     "name": "stdout",
     "output_type": "stream",
     "text": [
      "num_guesses = 8\n",
      "0.998046875 is close to the cube root of 1\n"
     ]
    }
   ],
   "source": [
    "cube = 27\n",
    "epsilon = 0.01\n",
    "num_guesses = 0\n",
    "low = 0\n",
    "high = cube\n",
    "guess = (high + low)/2.0\n",
    "while abs(guess**3 - cube) >= epsilon:\n",
    "    if guess**3 < cube :\n",
    "        low = guess\n",
    "    else:\n",
    "        high = guess\n",
    "    guess = (high + low)/2.0\n",
    "    num_guesses += 1\n",
    "print('num_guesses =', num_guesses)\n",
    "print(guess, 'is close to the cube root of', cube)"
   ]
  },
  {
   "cell_type": "markdown",
   "metadata": {},
   "source": [
    "Code works only for `cube >= 1`\n",
    "\n",
    "**Finger exercise**: What about `cube < 1`? Or negative cube values?"
   ]
  },
  {
   "cell_type": "code",
   "execution_count": 35,
   "metadata": {},
   "outputs": [
    {
     "name": "stdout",
     "output_type": "stream",
     "text": [
      "num_guesses = 0\n",
      "0.05 is close to the cube root of 0.1\n"
     ]
    }
   ],
   "source": [
    "#Use as Notes\n",
    "\n",
    "cube = .1\n",
    "epsilon = 0.01\n",
    "num_guesses = 0\n",
    "low = 0\n",
    "high = cube\n",
    "guess = (high + low)/2.0\n",
    "while abs(guess**3 - cube**3) >= epsilon:\n",
    "    if guess**3 < cube :\n",
    "        low = guess\n",
    "    else:\n",
    "        high = guess\n",
    "    guess = (high + low)/2.0\n",
    "    num_guesses += 1\n",
    "print('num_guesses =', num_guesses)\n",
    "print(guess, 'is close to the cube root of', cube)"
   ]
  },
  {
   "cell_type": "code",
   "execution_count": 36,
   "metadata": {},
   "outputs": [
    {
     "name": "stdout",
     "output_type": "stream",
     "text": [
      "num_guesses = 14\n",
      "-3.000091552734375 is close to the cube root of -27\n"
     ]
    }
   ],
   "source": [
    "#Use as Notes\n",
    "\n",
    "cube = -27\n",
    "epsilon = 0.01\n",
    "num_guesses = 0\n",
    "low = 0\n",
    "high = cube\n",
    "guess = (high + low)/2.0\n",
    "while abs(guess**3 - cube) >= epsilon:\n",
    "    if guess**3 > cube :\n",
    "        low = guess\n",
    "    else:\n",
    "        high = guess\n",
    "    guess = (high + low)/2.0\n",
    "    num_guesses += 1\n",
    "print('num_guesses =', num_guesses)\n",
    "print(guess, 'is close to the cube root of', cube)"
   ]
  },
  {
   "cell_type": "markdown",
   "metadata": {},
   "source": [
    "### Famous bisection algorithm: Newton-Raphson\n",
    "\n",
    "Used to find roots of many functions\n",
    "\n",
    "Let's see how to use it to find roots of a single-variable polynomial\n",
    "\n",
    "With `p` a polynomial and `r` a real number:\n",
    "- `p(r)` is the value of the polynomial when `x = r`\n",
    "- A root of the polynomial `p` is a solution to the equation `p(r) = 0` \n",
    "    \n",
    "Newton-Raphson suggests that:\n",
    "- if a value `guess` is an approximation to a root of a polynomial, then:\n",
    "    * `guess – p(guess)/p’(guess)`, where `p’` is the first derivative of `p`, is a better approximation\n",
    "    * **Example**: the first derivative of $x^2 - k$ is $2x$; We can improve on the current guess `y` as $y - (y^2 - k)/2y$\n",
    "    \n",
    "* **Finger exercise**: Finding an approximation to the square root of `24` can be formulated as finding an `x` s.t.: $x^2 – 24 ≈ 0$"
   ]
  },
  {
   "cell_type": "code",
   "execution_count": 37,
   "metadata": {},
   "outputs": [
    {
     "name": "stdout",
     "output_type": "stream",
     "text": [
      "Square root of 24.0 is about 4.8989887432139305\n"
     ]
    }
   ],
   "source": [
    "epsilon = 0.01\n",
    "k = 24.0\n",
    "guess = k/2.0\n",
    "while abs(guess*guess - k) >= epsilon:\n",
    "    guess = guess - (((guess**2) - k)/(2*guess))\n",
    "print('Square root of', k, 'is about', guess)"
   ]
  },
  {
   "cell_type": "code",
   "execution_count": null,
   "metadata": {},
   "outputs": [],
   "source": []
  }
 ],
 "metadata": {
  "kernelspec": {
   "display_name": "Python 3",
   "language": "python",
   "name": "python3"
  },
  "language_info": {
   "codemirror_mode": {
    "name": "ipython",
    "version": 3
   },
   "file_extension": ".py",
   "mimetype": "text/x-python",
   "name": "python",
   "nbconvert_exporter": "python",
   "pygments_lexer": "ipython3",
   "version": "3.7.6"
  }
 },
 "nbformat": 4,
 "nbformat_minor": 4
}

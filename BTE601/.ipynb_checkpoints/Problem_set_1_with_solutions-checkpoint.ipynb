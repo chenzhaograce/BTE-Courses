{
 "cells": [
  {
   "cell_type": "markdown",
   "metadata": {},
   "source": [
    "# Problem Set 1\n",
    "\n",
    "\n",
    "<span style=\"color:red\">**Handed out:**</span> Monday August 23, 2021\n",
    "\n",
    "**Due date:** Thursday September 09, 2021\n",
    "\n",
    "\n",
    "Problem set 1 will introduce you to the basic Python modules that you will see during the first two weeks of class. Remember that for your benefit, it will be better for you to start working on the assignments as early as possible. That way, you will have everything fresh in your mind and will be easier to finish with the assignment in due course. You will also avoid any late-submissions that carry grade reduction.\n",
    "\n",
    "Finally, make sure you familiarize yourselves with how Anaconda and Jupyter notbooks work before proceeding with the actual assignments.\n",
    "\n",
    "**New Python package! `NumPy`**\n",
    "\n",
    "For the assignments in this set (and for all subsequent sets), you will need to use `NumPy`. `NumPy` is the fundamental package for scientific computing in Python. It is a Python library that provides a multidimensional array object, various derived objects (such as masked arrays and matrices), and an assortment of routines for fast operations on arrays, including mathematical, logical, shape manipulation, sorting, selecting, I/O, discrete Fourier transforms, basic linear algebra, basic statistical operations, random simulation and much more.\n",
    "\n",
    "Of course, you won't need all of those!\n",
    "\n",
    "First import `NumPy`\n",
    "```python\n",
    "import numpy as np\n",
    "```\n",
    "\n",
    "Use the alias `np` to call any `NumPy` functions:\n",
    "```python\n",
    "np.add(1,2) # add two values\n",
    "np.pow(2,2) # same as 2**2\n",
    "```\n",
    "\n",
    "You can always refer to the [Python Wikibook](https://en.wikibooks.org/wiki/Python_Programming) for more information on Python packages, functions, and more. And, don't forget: *Google is your friend!*"
   ]
  },
  {
   "cell_type": "markdown",
   "metadata": {},
   "source": [
    "## A Very Simple Program: Raising a number to a power and taking a logarithm\n",
    "\n",
    "Goal: make sure your `python` and `numpy` installations are correct. \n",
    "\n",
    "Remember the standard program elements:\n",
    "- print out results (using the `print` operation)\n",
    "- read input from a user at the console (using the `input` function)\n",
    "- store values in a variable, so that the program can access that value as needed."
   ]
  },
  {
   "cell_type": "markdown",
   "metadata": {},
   "source": [
    "### Assignment 1:\n",
    "\n",
    "Write a program in Python that does the following:\n",
    "- Enter a number `x`\n",
    "- Enter a number `y`\n",
    "- Print $x^y$\n",
    "- Print $log_2(x)$\n",
    "\n",
    "**Assist:** If `x = 2` and `y = 3`, your printed statements will be:\n",
    "\n",
    "<span style=\"color:blue\">Enter number x: 2\n",
    "    \n",
    "<span style=\"color:blue\">Enter number y: 3\n",
    "    \n",
    "<span style=\"color:blue\">x**y = 8\n",
    "    \n",
    "<span style=\"color:blue\">log(x) = 1</span>\n"
   ]
  },
  {
   "cell_type": "code",
   "execution_count": 3,
   "metadata": {},
   "outputs": [
    {
     "name": "stdout",
     "output_type": "stream",
     "text": [
      "Enter number x: 2\n",
      "Enter number y: 3\n",
      "8\n",
      "0.6931471805599453\n"
     ]
    }
   ],
   "source": [
    "import numpy as np\n",
    "\n",
    "x = int(input(\"Enter number x: \", ))\n",
    "y = int(input(\"Enter number y: \", ))\n",
    "print(x**y)\n",
    "print(np.log(x))"
   ]
  },
  {
   "cell_type": "markdown",
   "metadata": {},
   "source": [
    "## House hunting\n",
    "\n",
    "You have graduated from UM and now have a great job as a junior project manager! You move to the San Francisco Bay Area and decide that you want to start saving to buy a house. As housing prices are very high in the Bay Area, you realize you are going to have to save for several years before you can afford to make the down payment on a house. In this assignment, you have to determine how long it will take you to save enough money to make the down payment given the following assumptions:\n",
    "\n",
    "1. Call the cost of your dream home `total_cost`. \n",
    "2. Call the portion of the cost needed for a down payment `portion_down_payment`. For simplicity, assume that `portion_down_payment = 0.25 (25%)`. \n",
    "3. Call the amount that you have saved thus far `current_savings`. You start with a current savings of 0 dollars. \n",
    "4. Assume that you invest your current savings wisely, with an annual return of `r` (in other words, at the end of each month, you receive an additional `current_savings*r/12` funds to put into your savings – the 12 is because `r` is an annual rate). Assume that your investments earn a return of `r = 0.04 (4%)`. \n",
    "5. Assume your annual salary is `annual_salary`. \n",
    "6. Assume you are going to dedicate a certain amount of your salary each month to saving for the down payment. Call that `portion_saved`. This variable should be in decimal form (i.e. 0.1 for 10%). \n",
    "7. At the end of each month, your savings will be increased by the return on your investment, plus a percentage of your monthly salary (annual salary / 12).\n",
    "\n",
    "Write a program to calculate how many months it will take you to save up enough money for a down payment. You will want your main variables to be floats, so you should cast user inputs to floats.\n",
    "\n",
    "Your program should ask the user to enter the following variables: \n",
    "1. The starting annual salary (`annual_salary`) \n",
    "2. The portion of salary to be saved (`portion_saved`)\n",
    "3. The cost of your dream home (`total_cost`)\n",
    "\n",
    "**Hints:** To help you get started, here is a rough outline of the stages you should probably follow in writing your code: \n",
    "- Retrieve user input. Look at `input()` if you need help with getting user input. For this problem set, you can assume that users will enter valid input (e.g. they won’t enter a `str` when you expect an `int`) \n",
    "- Initialize some state variables. You should decide what information you need. Be careful about values that represent annual amounts and those that represent monthly amounts.\n",
    "\n",
    "Printouts should be like:\n",
    "\n",
    "<span style=\"color:blue\">Enter your annual salary:</span> 120000\n",
    "    \n",
    "<span style=\"color:blue\">Enter the percent of your salary to save, as a decimal:</span> . 10\n",
    "    \n",
    "<span style=\"color:blue\">Enter the cost of your dream home:</span> 1000000\n",
    "    \n",
    "<span style=\"color:blue\">Number of months:</span> 183"
   ]
  },
  {
   "cell_type": "code",
   "execution_count": 9,
   "metadata": {},
   "outputs": [
    {
     "name": "stdout",
     "output_type": "stream",
     "text": [
      "Enter your annual salary: 120000\n",
      "Enter the percent of your salary to save, as decimal: .10\n",
      "Enter the cost of your dream home: 1000000\n",
      "120000.0 0.1 1000000.0\n",
      "Number of months:  183\n"
     ]
    }
   ],
   "source": [
    "annual_salary = float(input(\"Enter your annual salary: \", ))\n",
    "portion_saved = float(input(\"Enter the percent of your salary to save, as decimal: \", ))\n",
    "total_cost = float(input(\"Enter the cost of your dream home: \", ))\n",
    "\n",
    "portion_down_payment = 0.25 \n",
    "current_savings = 0\n",
    "r = 0.04\n",
    "\n",
    "num_months = 0\n",
    "\n",
    "while current_savings < portion_down_payment*total_cost:\n",
    "    investment1 = current_savings * r/12\n",
    "    investment2 = portion_saved * annual_salary/12\n",
    "    current_savings += investment1 + investment2\n",
    "    num_months += 1\n",
    "\n",
    "print(\"Number of months: \", num_months)"
   ]
  },
  {
   "cell_type": "code",
   "execution_count": null,
   "metadata": {},
   "outputs": [],
   "source": []
  }
 ],
 "metadata": {
  "kernelspec": {
   "display_name": "Python 3",
   "language": "python",
   "name": "python3"
  },
  "language_info": {
   "codemirror_mode": {
    "name": "ipython",
    "version": 3
   },
   "file_extension": ".py",
   "mimetype": "text/x-python",
   "name": "python",
   "nbconvert_exporter": "python",
   "pygments_lexer": "ipython3",
   "version": "3.7.6"
  }
 },
 "nbformat": 4,
 "nbformat_minor": 4
}

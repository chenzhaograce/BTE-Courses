{
 "cells": [
  {
   "cell_type": "markdown",
   "metadata": {},
   "source": [
    "# Problem Set 1\n",
    "\n",
    "\n",
    "<span style=\"color:red\">**Handed out:**</span> Monday August 23, 2021\n",
    "\n",
    "**Due date:** Thursday September 09, 2021\n",
    "\n",
    "\n",
    "Problem set 1 will introduce you to the basic Python modules that you will see during the first two weeks of class. Remember that for your benefit, it will be better for you to start working on the assignments as early as possible. That way, you will have everything fresh in your mind and will be easier to finish with the assignment in due course. You will also avoid any late-submissions that carry grade reduction.\n",
    "\n",
    "Finally, make sure you familiarize yourselves with how Anaconda and Jupyter notbooks work before proceeding with the actual assignments.\n",
    "\n",
    "**New Python package! `numpy`**\n",
    "\n",
    "For the assignments in this set (and for all subsequent sets), you will need to use `NumPy`. `NumPy` is the fundamental package for scientific computing in Python. It is a Python library that provides a multidimensional array object, various derived objects (such as masked arrays and matrices), and an assortment of routines for fast operations on arrays, including mathematical, logical, shape manipulation, sorting, selecting, I/O, discrete Fourier transforms, basic linear algebra, basic statistical operations, random simulation and much more.\n",
    "\n",
    "Of course, you won't need all of those!\n",
    "\n",
    "First import `NumPy`\n",
    "```python\n",
    "import numpy as np\n",
    "```\n",
    "\n",
    "Use the alias `np` to call any `NumPy` functions:\n",
    "```python\n",
    "np.add(1,2) # add two values\n",
    "np.pow(2,2) # same as 2**2\n",
    "```\n",
    "\n",
    "You can always refer to the [Python Wikibook](https://en.wikibooks.org/wiki/Python_Programming) for more information on Python packages, functions, and more. "
   ]
  },
  {
   "cell_type": "markdown",
   "metadata": {},
   "source": [
    "## A Very Simple Program: Raising a number to a power and taking a logarithm\n",
    "\n",
    "Goal: make sure your `python` and `numpy` installations are correct. \n",
    "\n",
    "Remember the standard program elements:\n",
    "- print out results (using the `print` operation)\n",
    "- read input from a user at the console (using the `input` function)\n",
    "- store values in a variable, so that the program can access that value as needed."
   ]
  },
  {
   "cell_type": "markdown",
   "metadata": {},
   "source": [
    "### Assignment 1:\n",
    "\n",
    "Write a program in Python that does the following:\n",
    "- Enter a number `x`\n",
    "- Enter a number `y`\n",
    "- Print $x^y$\n",
    "- Print $log_2(x)$\n",
    "\n",
    "**Assist:** If `x = 2` and `y = 3`, your printed statements will be:\n",
    "\n",
    "<span style=\"color:blue\">Enter number x: 2\n",
    "    \n",
    "<span style=\"color:blue\">Enter number y: 3\n",
    "    \n",
    "<span style=\"color:blue\">x**y = 8\n",
    "    \n",
    "<span style=\"color:blue\">log(x) = 1</span>\n"
   ]
  },
  {
   "cell_type": "code",
   "execution_count": 3,
   "metadata": {},
   "outputs": [
    {
     "name": "stdout",
     "output_type": "stream",
     "text": [
      "Enter number x: 2\n",
      "Enter number y: 3\n",
      "8\n",
      "0.6931471805599453\n"
     ]
    }
   ],
   "source": [
    "import numpy as np\n",
    "\n",
    "x = int(input(\"Enter number x: \", ))\n",
    "y = int(input(\"Enter number y: \", ))\n",
    "print(x**y)\n",
    "print(np.log(x))"
   ]
  },
  {
   "cell_type": "code",
   "execution_count": null,
   "metadata": {},
   "outputs": [],
   "source": []
  }
 ],
 "metadata": {
  "kernelspec": {
   "display_name": "Python 3",
   "language": "python",
   "name": "python3"
  },
  "language_info": {
   "codemirror_mode": {
    "name": "ipython",
    "version": 3
   },
   "file_extension": ".py",
   "mimetype": "text/x-python",
   "name": "python",
   "nbconvert_exporter": "python",
   "pygments_lexer": "ipython3",
   "version": "3.7.6"
  }
 },
 "nbformat": 4,
 "nbformat_minor": 4
}

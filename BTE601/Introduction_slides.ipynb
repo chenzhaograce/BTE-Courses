{
 "cells": [
  {
   "cell_type": "code",
   "execution_count": 5,
   "metadata": {
    "slideshow": {
     "slide_type": "-"
    }
   },
   "outputs": [
    {
     "data": {
      "text/html": [
       "<style>.rendered_html table { font-size: 17px; }</style>"
      ],
      "text/plain": [
       "<IPython.core.display.HTML object>"
      ]
     },
     "metadata": {},
     "output_type": "display_data"
    }
   ],
   "source": [
    "from IPython.core.display import display, HTML\n",
    "display(HTML(\"<style>.rendered_html table { font-size: 17px; }</style>\"))"
   ]
  },
  {
   "cell_type": "markdown",
   "metadata": {
    "slideshow": {
     "slide_type": "slide"
    }
   },
   "source": [
    "# Introduction to Computation and Programming Using Python"
   ]
  },
  {
   "cell_type": "markdown",
   "metadata": {
    "slideshow": {
     "slide_type": "slide"
    }
   },
   "source": [
    "<u>Welcome to **BTE 601 *Introduction to Python***!</u>\n",
    "\n",
    "In this course, we will learn how to think computationally and write code using Python code. \n",
    "\n",
    "At the end of the course, you will be able to solve various problems by writing small programs utilizing the concepts taught.\n",
    "\n",
    "Focus on **Python**:\n",
    " - Interpreted high-level general-purpose programming language. \n",
    " - Can be used in many different areas of research and development including: \n",
    "     * web development \n",
    "     * AI, machine learning\n",
    "     * operating systems\n",
    "     * mobile application development\n",
    "     * video games.\n",
    "     * *and others*"
   ]
  },
  {
   "cell_type": "markdown",
   "metadata": {
    "slideshow": {
     "slide_type": "slide"
    }
   },
   "source": [
    "## Course information and goals\n",
    "\n",
    "Course designed for students with little or no programming experience. \n",
    "\n",
    "Introduction to a number of topics:\n",
    " - *breadth* rather than *depth*\n",
    "\n",
    "\n",
    "Main goals:\n",
    "\n",
    " - Provide an understanding of using computation in solving problems.\n",
    " - Help you write small programs that allow them to accomplish useful goals. \n",
    " - Make you ready to excel in subjects with programming components.\n",
    "\n",
    "**Python version used: Python 3.8**."
   ]
  },
  {
   "cell_type": "markdown",
   "metadata": {
    "slideshow": {
     "slide_type": "slide"
    }
   },
   "source": [
    "## Textbook\n",
    "\n",
    "<img src=\"images/textbook.png\" width=600/>\n",
    "\n",
    " - Material presented in lectures follow the material given in the book. \n",
    " - However, the book provides more detail and it will better help you understand the topics discussed.\n"
   ]
  },
  {
   "cell_type": "markdown",
   "metadata": {
    "slideshow": {
     "slide_type": "slide"
    }
   },
   "source": [
    "## Attendance\n",
    "\n",
    " - All classes will follow an interactive approach.\n",
    "     - Code shown and executed at the same time. \n",
    " - You will be able to observe how things work, see what kind of results you obtain, and familiarize yourselves with potential errors. \n",
    " - Programming is mostly a trial&error approach. It can be quite painstaking (**No pain, no gain**).\n",
    "\n",
    " * Significant portions of the course material will be demonstrated in class.\n",
    " * You are expected to regularly attend. \n",
    " * No attendance taken.\n",
    " * It is your responsibility to go through the examples in the notebook in case you cannot attend to a class.\n",
    " * Also: **PRACTICE!!**\n",
    "     - *Especially if you do not have programming experience.*"
   ]
  },
  {
   "cell_type": "markdown",
   "metadata": {
    "slideshow": {
     "slide_type": "slide"
    }
   },
   "source": [
    "**NOTE**: slides up before each lecture\n",
    " - Highly encourage you to download them before lecture.\n",
    " - Take notes and run code files when I do\n",
    " - Bring computers to answer in-class practice exercises!"
   ]
  },
  {
   "cell_type": "markdown",
   "metadata": {
    "slideshow": {
     "slide_type": "slide"
    }
   },
   "source": [
    "# Grading\n",
    "\n",
    "Grading process will follow a three-fold approach:\n",
    " - Problem sets\n",
    " - Midterm exam\n",
    " - Final exam\n",
    "\n",
    "I will also grade in-class participation, which will count as extra credits.\n",
    "\n",
    "Grade breakdown will roughly be as follows:\n",
    "\n",
    "| Activities               \t| Percentages \t|\n",
    "|:--------------------------\t|:-------------:\t|\n",
    "| Problem sets             \t| 20%         \t|\n",
    "| Midterm exam             \t| 35%         \t|\n",
    "| Final exam               \t| 45%         \t|\n",
    "| *Participation in class* \t| 10%         \t|\n",
    "| **Total:**                | **110%**      |"
   ]
  },
  {
   "cell_type": "markdown",
   "metadata": {
    "slideshow": {
     "slide_type": "slide"
    }
   },
   "source": [
    "### Problem sets\n",
    "\n",
    " - Three problem sets in total. \n",
    " - Each set will cover a two-week material \n",
    "    * due by the end of the week after the two-week period. \n",
    "\n",
    "*Example: classes begin on 08/24 and the first two-week period ends on 09/02. Therefore, the 1st problem set will be due on 09/09 by midnight.*\n",
    "\n",
    " 1. The problem sets will cover material of their respective periods.\n",
    "     - Personal advise: gradually work on them throughout this period. \n",
    "     - You will be able to put to the test everything you will learn in class.\n",
    "     - You will also be able to submit them in time and before work starts to pile up. \n",
    "\n",
    "You can *drop and roll* the weight of one set to the final exam, but do it on an EMERGENCY situation only!"
   ]
  },
  {
   "cell_type": "markdown",
   "metadata": {
    "slideshow": {
     "slide_type": "slide"
    }
   },
   "source": [
    "*I will allow late day submissions, for a maximum of 3 late days.*\n",
    "\n",
    "**Be advised**: For every late day, there will be a 5% grade reduction.\n",
    " - Make sure you submit your assignments on time. \n",
    " - After this 3-day period, submissions will not be accepted.\n",
    "\n",
    " * Problem sets will be graded out of 100 points. \n",
    " * Submissions that do not run will be graded based on their \"completeness\"."
   ]
  },
  {
   "cell_type": "markdown",
   "metadata": {
    "slideshow": {
     "slide_type": "slide"
    }
   },
   "source": [
    "### Midterm exam\n",
    "\n",
    "**Date**: 09/09. \n",
    " - It will be held during class hours and on your personal laptops. \n",
    " - **Format**: Jupyter notebook with empty cells where you will write and execute your code. \n",
    "     * In some questions parts of the code will be given. \n",
    "     * **No surprises!** All questions will be similar to those we worked in class.\n",
    "\n",
    "### Final exam\n",
    "\n",
    "**Date**: 10/07\n",
    " - It will be held during class hours and on your personal laptops.\n",
    " - Same format as the midterm. \n",
    " - Not cumulative, but you are expected to recall material covered throughout the class."
   ]
  },
  {
   "cell_type": "markdown",
   "metadata": {
    "slideshow": {
     "slide_type": "slide"
    }
   },
   "source": [
    "#### Notes:\n",
    "\n",
    " - Both midterm and final exams will be **closed-book**.\n",
    " - You will be allowed to bring one page of notes to the midterm exam and two pages of notes to the final exam. \n",
    "\n",
    "*As with the problem sets, the tasks on both midterm and final exams will be graded based on their completeness*"
   ]
  },
  {
   "cell_type": "markdown",
   "metadata": {
    "slideshow": {
     "slide_type": "slide"
    }
   },
   "source": [
    "# Calendar\n",
    "\n",
    "| Session               \t|       \t| Topics                                       \t| Assignments/Exams               \t|\n",
    "|-----------------------\t|-------\t|----------------------------------------------\t|---------------------------------\t|\n",
    "| **Week 1**     \t|       \t|                                              \t|                                 \t|\n",
    "|                       \t| 08/24 \t| Intro to computation                         \t|                                 \t|\n",
    "|                       \t| 08/26 \t| Branching and Looping                        \t|                                 \t|\n",
    "| **Week 2** \t|       \t|                                              \t|                                 \t|\n",
    "|                       \t| 08/31 \t| Strings, Approximations, Bisection           \t|                                 \t|\n",
    "|                       \t| 09/02 \t| Decomposition, Abstractions, Functions       \t|                                 \t|\n",
    "| **Week 3**     \t|       \t|                                              \t|                                 \t|\n",
    "|                       \t| 09/07 \t| Tuples, Lists, Aliasing, Mutability, Cloning \t| 1st assignment due/Midterm exam \t|\n",
    "|                       \t| 09/09 \t| Recursion, Dictionaries                      \t|                                 \t|\n",
    "| **Week 4**     \t|       \t|                                              \t|                                 \t|\n",
    "|                       \t| 09/14 \t| Testing, Debugging, Exceptions, Assertion    \t|                                 \t|\n",
    "|                       \t| 09/16 \t| Object Oriented Programming                  \t|                                 \t|\n",
    "| **Week 5**     \t|       \t|                                              \t|                                 \t|\n",
    "|                       \t| 09/21 \t| Python Classes and Inheritance               \t| 2nd assignment due              \t|\n",
    "|                       \t| 09/23 \t| Programming Efficiency                       \t|                                 \t|\n",
    "| **Week 6**     \t|       \t|                                              \t|                                 \t|\n",
    "|                       \t| 09/28 \t| Programming Efficiency (Cont.)               \t|                                 \t|\n",
    "|                       \t| 09/30 \t| Searching and Sorting algorithms             \t|                                 \t|\n",
    "| *Week 7 (10/07)*       \t|       \t|                                              \t| 3rd assignment due/Final exam   \t|"
   ]
  },
  {
   "cell_type": "code",
   "execution_count": null,
   "metadata": {
    "slideshow": {
     "slide_type": "skip"
    }
   },
   "outputs": [],
   "source": []
  }
 ],
 "metadata": {
  "kernelspec": {
   "display_name": "Python 3",
   "language": "python",
   "name": "python3"
  },
  "language_info": {
   "codemirror_mode": {
    "name": "ipython",
    "version": 3
   },
   "file_extension": ".py",
   "mimetype": "text/x-python",
   "name": "python",
   "nbconvert_exporter": "python",
   "pygments_lexer": "ipython3",
   "version": "3.7.6"
  }
 },
 "nbformat": 4,
 "nbformat_minor": 4
}

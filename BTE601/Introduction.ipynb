{
 "cells": [
  {
   "cell_type": "markdown",
   "source": [
    "# Introduction to Computation and Programming Using Python"
   ],
   "metadata": {
    "slideshow": {
     "slide_type": "slide"
    }
   }
  },
  {
   "cell_type": "markdown",
   "source": [
    "Welcome to **BTE 601 *Introduction to Python***! \n",
    "\n",
    "In this course, we will learn how to think computationally using Python code. At the end of the course, you will be able to solve various problems by writing small programs utilizing the concepts taught.\n",
    "\n",
    "While most of the material covered could be implemented with multiple programming languages (e.g. C/C++, Java, etc.), we will focus on Python, an interpreted high-level general-purpose programming language. that can be used in many different areas of research and development including, but not limited to, web development, AI, machine learning, operating systems, mobile application development, and video games.\n",
    "\n",
    "**Don't worry!** I won't ask you to design a game, or create a sophisticated AI application!\n",
    "\n",
    "\n",
    "\n",
    "\n",
    "\n",
    "\n",
    "\n",
    "\n",
    "# Grading\n",
    "\n",
    "Grading process will be mainly three-fold:\n",
    " - Problem sets\n",
    " - Midterm exam\n",
    " - Final exam\n",
    "\n",
    "I will also grade in-class participation, which grade will count as extra credits.\n",
    "\n",
    "Grade breakdown will roughly be as follows:\n",
    "\n",
    "| Activities               \t| Percentages \t|\n",
    "|:--------------------------\t|:-------------:\t|\n",
    "| Problem sets             \t| 20%         \t|\n",
    "| Midterm exam             \t| 35%         \t|\n",
    "| Final exam               \t| 45%         \t|\n",
    "| *Participation in class* \t| 10%         \t|\n",
    "| **Total:**                | **110%**      |\n",
    "\n",
    "### Problem sets\n",
    "\n",
    "There will be 3 problem sets in total. Each set will cover a two-week material and it will be due by the end of the week after the two-week period. \n",
    "\n",
    "For example: classes begin on 08/24 and the first two-week period ends on 09/02. Therefore, the 1st problem set will be due on 09/09 by midnight. You have already received the 1st problem set, the other two will follow in due time.\n",
    "\n",
    "The problem sets will cover material of their respective periods, therefore you will be able to gradually work on them throughout this period. That way, you will be able to put to the test everything you will learn in class, and you will be able to submit them in time and before work starts to pile up. \n",
    "\n",
    "I will allow late day submissions, for a maximum of 3 late days. Be advised that for every late day, there will be a 5% grade reduction, so make sure you submit your assignments on time. After this 3-day period, submissions will not be accepted.\n",
    "\n",
    "Problem sets will be graded out of 100 points. Submissions that do not run will be graded based on their \"completeness\", that is depending how far did you go.\n",
    "\n",
    "### Midterm exam\n",
    "\n",
    "At the end of three weeks of classes (09/09), we will have a midterm exam. It will be held during class hours and on your personal computers. Each one of you will get a Jupyter notebook with all questions given in markdown (like all lecture materials), and empty cells where you will have to write in your code. In some cases, parts of the code will be given, especially for the more complex questions, whereas simpler ones will be empty and you will have to complete them. Examples will be presented in class before the exam, so you will know what to expect.\n",
    "\n",
    "### Final exam\n",
    "\n",
    "The final exam will be held on 10/07, same class time and same classroom. It will have the same format as the midterm. Although not cumulative, you are expected to recall the material we covered for the midterm exam since it will help you complete the tasks of the final exam as well.\n",
    "\n",
    "#### Notes:\n",
    "\n",
    "Both midterm and final exams will be closed-book, though you will be allowed to bring one page of notes to the midterm exam and two pages of notes to the final exam. \n",
    "\n",
    "As with the problem sets, the tasks on both midterm and final exams will be graded based on their completeness, if they do not run entirely. \n",
    "\n",
    "# Calendar\n",
    "\n",
    "| Session               \t|       \t| Topics                                       \t| Assignments/Exams               \t|\n",
    "|-----------------------\t|-------\t|----------------------------------------------\t|---------------------------------\t|\n",
    "| **Week 1**     \t|       \t|                                              \t|                                 \t|\n",
    "|                       \t| 08/24 \t| Intro to computation                         \t|                                 \t|\n",
    "|                       \t| 08/26 \t| Branching and Looping, Intro to strings                        \t|                                 \t|\n",
    "| **Week 2** \t|       \t|                                              \t|                                 \t|\n",
    "|                       \t| 08/31 \t| String manipulation, Approximations, Bisection           \t|                                 \t|\n",
    "|                       \t| 09/02 \t| Decomposition, Abstractions, Functions       \t|                                 \t|\n",
    "| **Week 3**     \t|       \t|                                              \t|                                 \t|\n",
    "|                       \t| 09/07 \t| Tuples, Lists \t| Midterm exam \t|\n",
    "|                       \t| 09/09 \t| Recursion, Dictionaries                      \t| 1st assignment due                              \t|\n",
    "| **Week 4**     \t|       \t|                                              \t|                                 \t|\n",
    "|                       \t| 09/14 \t| Testing, Debugging, Exceptions, Assertion    \t|                                 \t|\n",
    "|                       \t| 09/16 \t| Object Oriented Programming                  \t|                                 \t|\n",
    "| **Week 5**     \t|       \t|                                              \t|                                 \t|\n",
    "|                       \t| 09/21 \t| Python Classes and Inheritance               \t| 2nd assignment due              \t|\n",
    "|                       \t| 09/23 \t| Searching and Sorting algorithms                      \t|                                 \t|\n",
    "| **Week 6**     \t|       \t|                                              \t|                                 \t|\n",
    "|                       \t| 09/28 \t| Python examples on fintech              \t|  https://towardsdatascience.com/python-for-finance-the-complete-beginners-guide-764276d74cef                               \t|\n",
    "|                       \t| 09/30 \t| Python examples on fintech (Cont.)            \t|                                 \t|\n",
    "| *Week 7 (10/07)*       \t|       \t|                                              \t| 3rd assignment due/Final exam   \t|"
   ],
   "metadata": {
    "slideshow": {
     "slide_type": "slide"
    }
   }
  },
  {
   "cell_type": "markdown",
   "source": [
    "## Course information and goals\n",
    "\n",
    "Course material for BTE 601 is intended for students with little or no programming experience. The objective is to provide you with a brief introduction to a number of topics (*breadth* rather than *depth*), ranging from the most basic (simple commands) to more advanced concepts (functions, classes) of programming in Python. \n",
    "\n",
    "\n",
    "Main goals:\n",
    "\n",
    " - Provide an understanding of using computation in solving problems \n",
    " - Help students, regardless of their major, write small programs that allow them to accomplish useful goals. \n",
    " - Position students so that they can compete for research projects and excel in subjects with programming components.\n",
    "\n",
    "The class will use the Python 3.8 programming language. Nevertheless, you are generally free to use any other Python 3 version you like, but make sure there will not be any compatibility issues between different library versions. Make note that you will **not** be able to use Python 2."
   ],
   "metadata": {}
  },
  {
   "cell_type": "markdown",
   "source": [
    "## Textbook\n",
    "\n",
    "The course textbook will be the *Introduction to Computation and Programming Using Python: With Application to Understanding Data Third Edition. MIT Press, 2021. ISBN: 9780262542364*. The book is available both in [hard copy and in an e-book format](https://mitpress.mit.edu/books/introduction-computation-and-programming-using-python-second-edition).\n",
    "\n",
    "All material presented during lectures goes in parallel with the material given in the book. However, the book provides more detail and it will better help you understand the topics discussed.\n",
    "\n",
    "There will not be any MS Powerpoint/LaTeX presentations, all lectures will be given through a Jupyter notebook format (like this one)."
   ],
   "metadata": {}
  },
  {
   "cell_type": "markdown",
   "source": [
    "## Attendance\n",
    "\n",
    "All classes will follow an interactive approach, where code shown will be executed at the same time. This way, you will be able to observe how things work, see what kind of results you obtain, and familiarize yourselves with potential errors (Programming is mostly a trial&error approach. It can be quite painstaking but as the saying goes: No pain, no gain).\n",
    "Since a significant portion of the course material will be demonstrated in lecture, you are expected to regularly attend class. I will not take attendance, and it will be your responsibility to go through the examples in the notebook in case you cannot attend to a class.\n",
    "\n",
    "I will always be available by email, and through office hours, to answer any questions you might have. For office hours, you will need to schedule an appointment with me at least two hours in advance, so that there will not be any conflicts."
   ],
   "metadata": {}
  },
  {
   "cell_type": "code",
   "execution_count": null,
   "source": [],
   "outputs": [],
   "metadata": {}
  }
 ],
 "metadata": {
  "kernelspec": {
   "display_name": "Python 3",
   "language": "python",
   "name": "python3"
  },
  "language_info": {
   "codemirror_mode": {
    "name": "ipython",
    "version": 3
   },
   "file_extension": ".py",
   "mimetype": "text/x-python",
   "name": "python",
   "nbconvert_exporter": "python",
   "pygments_lexer": "ipython3",
   "version": "3.7.6"
  }
 },
 "nbformat": 4,
 "nbformat_minor": 4
}